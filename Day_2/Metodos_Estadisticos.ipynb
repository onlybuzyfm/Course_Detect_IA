{
 "cells": [
  {
   "cell_type": "markdown",
   "metadata": {},
   "source": [
    "### N-Gramas"
   ]
  },
  {
   "cell_type": "code",
   "execution_count": 1,
   "metadata": {},
   "outputs": [
    {
     "name": "stdout",
     "output_type": "stream",
     "text": [
      "Counter({('el', 'contenido'): 1, ('contenido', 'generado'): 1, ('generado', 'por'): 1, ('por', 'ia'): 1, ('ia', 'puede'): 1, ('puede', 'parecer'): 1, ('parecer', 'humano'): 1})\n"
     ]
    }
   ],
   "source": [
    "from nltk import ngrams\n",
    "from collections import Counter\n",
    "\n",
    "text = \"El contenido generado por IA puede parecer humano\"\n",
    "tokens = text.lower().split()\n",
    "bigrams = list(ngrams(tokens, 2))\n",
    "print(Counter(bigrams))"
   ]
  },
  {
   "cell_type": "markdown",
   "metadata": {},
   "source": [
    "### Entropia Léxica"
   ]
  },
  {
   "cell_type": "code",
   "execution_count": 3,
   "metadata": {},
   "outputs": [
    {
     "data": {
      "text/plain": [
       "3.0"
      ]
     },
     "execution_count": 3,
     "metadata": {},
     "output_type": "execute_result"
    }
   ],
   "source": [
    "from collections import Counter\n",
    "import math\n",
    "\n",
    "def entropy(text):\n",
    "    freq = Counter(text.split())\n",
    "    total = sum(freq.values())\n",
    "    return -sum((f/total) * math.log2(f/total) for f in freq.values())\n",
    "\n",
    "entropy('El contenido generado por IA puede parecer humano')"
   ]
  }
 ],
 "metadata": {
  "kernelspec": {
   "display_name": "Python 3",
   "language": "python",
   "name": "python3"
  },
  "language_info": {
   "codemirror_mode": {
    "name": "ipython",
    "version": 3
   },
   "file_extension": ".py",
   "mimetype": "text/x-python",
   "name": "python",
   "nbconvert_exporter": "python",
   "pygments_lexer": "ipython3",
   "version": "3.12.9"
  }
 },
 "nbformat": 4,
 "nbformat_minor": 2
}
