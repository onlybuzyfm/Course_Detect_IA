{
  "nbformat": 4,
  "nbformat_minor": 0,
  "metadata": {
    "colab": {
      "provenance": []
    },
    "kernelspec": {
      "name": "python3",
      "display_name": "Python 3"
    },
    "language_info": {
      "name": "python"
    },
    "widgets": {
      "application/vnd.jupyter.widget-state+json": {
        "9e688610697e49f68c414a69270a9dac": {
          "model_module": "@jupyter-widgets/controls",
          "model_name": "HBoxModel",
          "model_module_version": "1.5.0",
          "state": {
            "_dom_classes": [],
            "_model_module": "@jupyter-widgets/controls",
            "_model_module_version": "1.5.0",
            "_model_name": "HBoxModel",
            "_view_count": null,
            "_view_module": "@jupyter-widgets/controls",
            "_view_module_version": "1.5.0",
            "_view_name": "HBoxView",
            "box_style": "",
            "children": [
              "IPY_MODEL_8d8303ebefd74d7ea9d41674e86e74e9",
              "IPY_MODEL_a4a51fac85d64b5aae07eecdeedbebef",
              "IPY_MODEL_561431a57dd54b26a7485274f4c870ca"
            ],
            "layout": "IPY_MODEL_8535b0f3b7e34dac95d5a0034d90dc15"
          }
        },
        "8d8303ebefd74d7ea9d41674e86e74e9": {
          "model_module": "@jupyter-widgets/controls",
          "model_name": "HTMLModel",
          "model_module_version": "1.5.0",
          "state": {
            "_dom_classes": [],
            "_model_module": "@jupyter-widgets/controls",
            "_model_module_version": "1.5.0",
            "_model_name": "HTMLModel",
            "_view_count": null,
            "_view_module": "@jupyter-widgets/controls",
            "_view_module_version": "1.5.0",
            "_view_name": "HTMLView",
            "description": "",
            "description_tooltip": null,
            "layout": "IPY_MODEL_9d1ccf8e91bf4d2bafd0801c3d16694d",
            "placeholder": "​",
            "style": "IPY_MODEL_2380b1de5576493e98652f9d0c20ac95",
            "value": "config.json: 100%"
          }
        },
        "a4a51fac85d64b5aae07eecdeedbebef": {
          "model_module": "@jupyter-widgets/controls",
          "model_name": "FloatProgressModel",
          "model_module_version": "1.5.0",
          "state": {
            "_dom_classes": [],
            "_model_module": "@jupyter-widgets/controls",
            "_model_module_version": "1.5.0",
            "_model_name": "FloatProgressModel",
            "_view_count": null,
            "_view_module": "@jupyter-widgets/controls",
            "_view_module_version": "1.5.0",
            "_view_name": "ProgressView",
            "bar_style": "success",
            "description": "",
            "description_tooltip": null,
            "layout": "IPY_MODEL_de0be21c21484c98bfae0d6a743b499a",
            "max": 817,
            "min": 0,
            "orientation": "horizontal",
            "style": "IPY_MODEL_5565d5c7d0f0436e894735ecee0e69b2",
            "value": 817
          }
        },
        "561431a57dd54b26a7485274f4c870ca": {
          "model_module": "@jupyter-widgets/controls",
          "model_name": "HTMLModel",
          "model_module_version": "1.5.0",
          "state": {
            "_dom_classes": [],
            "_model_module": "@jupyter-widgets/controls",
            "_model_module_version": "1.5.0",
            "_model_name": "HTMLModel",
            "_view_count": null,
            "_view_module": "@jupyter-widgets/controls",
            "_view_module_version": "1.5.0",
            "_view_name": "HTMLView",
            "description": "",
            "description_tooltip": null,
            "layout": "IPY_MODEL_5927d8f50a354db5bc3b9eaed9ad569e",
            "placeholder": "​",
            "style": "IPY_MODEL_27cf7f4b12064ba2a3374545afb61597",
            "value": " 817/817 [00:00&lt;00:00, 38.0kB/s]"
          }
        },
        "8535b0f3b7e34dac95d5a0034d90dc15": {
          "model_module": "@jupyter-widgets/base",
          "model_name": "LayoutModel",
          "model_module_version": "1.2.0",
          "state": {
            "_model_module": "@jupyter-widgets/base",
            "_model_module_version": "1.2.0",
            "_model_name": "LayoutModel",
            "_view_count": null,
            "_view_module": "@jupyter-widgets/base",
            "_view_module_version": "1.2.0",
            "_view_name": "LayoutView",
            "align_content": null,
            "align_items": null,
            "align_self": null,
            "border": null,
            "bottom": null,
            "display": null,
            "flex": null,
            "flex_flow": null,
            "grid_area": null,
            "grid_auto_columns": null,
            "grid_auto_flow": null,
            "grid_auto_rows": null,
            "grid_column": null,
            "grid_gap": null,
            "grid_row": null,
            "grid_template_areas": null,
            "grid_template_columns": null,
            "grid_template_rows": null,
            "height": null,
            "justify_content": null,
            "justify_items": null,
            "left": null,
            "margin": null,
            "max_height": null,
            "max_width": null,
            "min_height": null,
            "min_width": null,
            "object_fit": null,
            "object_position": null,
            "order": null,
            "overflow": null,
            "overflow_x": null,
            "overflow_y": null,
            "padding": null,
            "right": null,
            "top": null,
            "visibility": null,
            "width": null
          }
        },
        "9d1ccf8e91bf4d2bafd0801c3d16694d": {
          "model_module": "@jupyter-widgets/base",
          "model_name": "LayoutModel",
          "model_module_version": "1.2.0",
          "state": {
            "_model_module": "@jupyter-widgets/base",
            "_model_module_version": "1.2.0",
            "_model_name": "LayoutModel",
            "_view_count": null,
            "_view_module": "@jupyter-widgets/base",
            "_view_module_version": "1.2.0",
            "_view_name": "LayoutView",
            "align_content": null,
            "align_items": null,
            "align_self": null,
            "border": null,
            "bottom": null,
            "display": null,
            "flex": null,
            "flex_flow": null,
            "grid_area": null,
            "grid_auto_columns": null,
            "grid_auto_flow": null,
            "grid_auto_rows": null,
            "grid_column": null,
            "grid_gap": null,
            "grid_row": null,
            "grid_template_areas": null,
            "grid_template_columns": null,
            "grid_template_rows": null,
            "height": null,
            "justify_content": null,
            "justify_items": null,
            "left": null,
            "margin": null,
            "max_height": null,
            "max_width": null,
            "min_height": null,
            "min_width": null,
            "object_fit": null,
            "object_position": null,
            "order": null,
            "overflow": null,
            "overflow_x": null,
            "overflow_y": null,
            "padding": null,
            "right": null,
            "top": null,
            "visibility": null,
            "width": null
          }
        },
        "2380b1de5576493e98652f9d0c20ac95": {
          "model_module": "@jupyter-widgets/controls",
          "model_name": "DescriptionStyleModel",
          "model_module_version": "1.5.0",
          "state": {
            "_model_module": "@jupyter-widgets/controls",
            "_model_module_version": "1.5.0",
            "_model_name": "DescriptionStyleModel",
            "_view_count": null,
            "_view_module": "@jupyter-widgets/base",
            "_view_module_version": "1.2.0",
            "_view_name": "StyleView",
            "description_width": ""
          }
        },
        "de0be21c21484c98bfae0d6a743b499a": {
          "model_module": "@jupyter-widgets/base",
          "model_name": "LayoutModel",
          "model_module_version": "1.2.0",
          "state": {
            "_model_module": "@jupyter-widgets/base",
            "_model_module_version": "1.2.0",
            "_model_name": "LayoutModel",
            "_view_count": null,
            "_view_module": "@jupyter-widgets/base",
            "_view_module_version": "1.2.0",
            "_view_name": "LayoutView",
            "align_content": null,
            "align_items": null,
            "align_self": null,
            "border": null,
            "bottom": null,
            "display": null,
            "flex": null,
            "flex_flow": null,
            "grid_area": null,
            "grid_auto_columns": null,
            "grid_auto_flow": null,
            "grid_auto_rows": null,
            "grid_column": null,
            "grid_gap": null,
            "grid_row": null,
            "grid_template_areas": null,
            "grid_template_columns": null,
            "grid_template_rows": null,
            "height": null,
            "justify_content": null,
            "justify_items": null,
            "left": null,
            "margin": null,
            "max_height": null,
            "max_width": null,
            "min_height": null,
            "min_width": null,
            "object_fit": null,
            "object_position": null,
            "order": null,
            "overflow": null,
            "overflow_x": null,
            "overflow_y": null,
            "padding": null,
            "right": null,
            "top": null,
            "visibility": null,
            "width": null
          }
        },
        "5565d5c7d0f0436e894735ecee0e69b2": {
          "model_module": "@jupyter-widgets/controls",
          "model_name": "ProgressStyleModel",
          "model_module_version": "1.5.0",
          "state": {
            "_model_module": "@jupyter-widgets/controls",
            "_model_module_version": "1.5.0",
            "_model_name": "ProgressStyleModel",
            "_view_count": null,
            "_view_module": "@jupyter-widgets/base",
            "_view_module_version": "1.2.0",
            "_view_name": "StyleView",
            "bar_color": null,
            "description_width": ""
          }
        },
        "5927d8f50a354db5bc3b9eaed9ad569e": {
          "model_module": "@jupyter-widgets/base",
          "model_name": "LayoutModel",
          "model_module_version": "1.2.0",
          "state": {
            "_model_module": "@jupyter-widgets/base",
            "_model_module_version": "1.2.0",
            "_model_name": "LayoutModel",
            "_view_count": null,
            "_view_module": "@jupyter-widgets/base",
            "_view_module_version": "1.2.0",
            "_view_name": "LayoutView",
            "align_content": null,
            "align_items": null,
            "align_self": null,
            "border": null,
            "bottom": null,
            "display": null,
            "flex": null,
            "flex_flow": null,
            "grid_area": null,
            "grid_auto_columns": null,
            "grid_auto_flow": null,
            "grid_auto_rows": null,
            "grid_column": null,
            "grid_gap": null,
            "grid_row": null,
            "grid_template_areas": null,
            "grid_template_columns": null,
            "grid_template_rows": null,
            "height": null,
            "justify_content": null,
            "justify_items": null,
            "left": null,
            "margin": null,
            "max_height": null,
            "max_width": null,
            "min_height": null,
            "min_width": null,
            "object_fit": null,
            "object_position": null,
            "order": null,
            "overflow": null,
            "overflow_x": null,
            "overflow_y": null,
            "padding": null,
            "right": null,
            "top": null,
            "visibility": null,
            "width": null
          }
        },
        "27cf7f4b12064ba2a3374545afb61597": {
          "model_module": "@jupyter-widgets/controls",
          "model_name": "DescriptionStyleModel",
          "model_module_version": "1.5.0",
          "state": {
            "_model_module": "@jupyter-widgets/controls",
            "_model_module_version": "1.5.0",
            "_model_name": "DescriptionStyleModel",
            "_view_count": null,
            "_view_module": "@jupyter-widgets/base",
            "_view_module_version": "1.2.0",
            "_view_name": "StyleView",
            "description_width": ""
          }
        },
        "05d3b3c0af9544df8326d270ac032713": {
          "model_module": "@jupyter-widgets/controls",
          "model_name": "HBoxModel",
          "model_module_version": "1.5.0",
          "state": {
            "_dom_classes": [],
            "_model_module": "@jupyter-widgets/controls",
            "_model_module_version": "1.5.0",
            "_model_name": "HBoxModel",
            "_view_count": null,
            "_view_module": "@jupyter-widgets/controls",
            "_view_module_version": "1.5.0",
            "_view_name": "HBoxView",
            "box_style": "",
            "children": [
              "IPY_MODEL_2c332561d9bf4716852459ef8f7133f5",
              "IPY_MODEL_d363033160bc400699143e56e1f7cf90",
              "IPY_MODEL_c04857141fe6485e81a9f465de9ad1bd"
            ],
            "layout": "IPY_MODEL_182aa7854d054a7b8e31ca0a6b460e4a"
          }
        },
        "2c332561d9bf4716852459ef8f7133f5": {
          "model_module": "@jupyter-widgets/controls",
          "model_name": "HTMLModel",
          "model_module_version": "1.5.0",
          "state": {
            "_dom_classes": [],
            "_model_module": "@jupyter-widgets/controls",
            "_model_module_version": "1.5.0",
            "_model_name": "HTMLModel",
            "_view_count": null,
            "_view_module": "@jupyter-widgets/controls",
            "_view_module_version": "1.5.0",
            "_view_name": "HTMLView",
            "description": "",
            "description_tooltip": null,
            "layout": "IPY_MODEL_7a1206f4b32e4fb9af2d346eb4346fdf",
            "placeholder": "​",
            "style": "IPY_MODEL_1eedd210a9d741e0b79d063ae3cd913a",
            "value": "pytorch_model.bin: 100%"
          }
        },
        "d363033160bc400699143e56e1f7cf90": {
          "model_module": "@jupyter-widgets/controls",
          "model_name": "FloatProgressModel",
          "model_module_version": "1.5.0",
          "state": {
            "_dom_classes": [],
            "_model_module": "@jupyter-widgets/controls",
            "_model_module_version": "1.5.0",
            "_model_name": "FloatProgressModel",
            "_view_count": null,
            "_view_module": "@jupyter-widgets/controls",
            "_view_module_version": "1.5.0",
            "_view_name": "ProgressView",
            "bar_style": "success",
            "description": "",
            "description_tooltip": null,
            "layout": "IPY_MODEL_e288d5d7f27142a698adb26d923b8fd6",
            "max": 510408315,
            "min": 0,
            "orientation": "horizontal",
            "style": "IPY_MODEL_f7c273cf1bc04276a333eef463ebbc16",
            "value": 510408315
          }
        },
        "c04857141fe6485e81a9f465de9ad1bd": {
          "model_module": "@jupyter-widgets/controls",
          "model_name": "HTMLModel",
          "model_module_version": "1.5.0",
          "state": {
            "_dom_classes": [],
            "_model_module": "@jupyter-widgets/controls",
            "_model_module_version": "1.5.0",
            "_model_name": "HTMLModel",
            "_view_count": null,
            "_view_module": "@jupyter-widgets/controls",
            "_view_module_version": "1.5.0",
            "_view_name": "HTMLView",
            "description": "",
            "description_tooltip": null,
            "layout": "IPY_MODEL_4e5d649f18414f7bb7fd795995029983",
            "placeholder": "​",
            "style": "IPY_MODEL_42193bb3df084b30a0cf04b3ce482134",
            "value": " 510M/510M [00:02&lt;00:00, 231MB/s]"
          }
        },
        "182aa7854d054a7b8e31ca0a6b460e4a": {
          "model_module": "@jupyter-widgets/base",
          "model_name": "LayoutModel",
          "model_module_version": "1.2.0",
          "state": {
            "_model_module": "@jupyter-widgets/base",
            "_model_module_version": "1.2.0",
            "_model_name": "LayoutModel",
            "_view_count": null,
            "_view_module": "@jupyter-widgets/base",
            "_view_module_version": "1.2.0",
            "_view_name": "LayoutView",
            "align_content": null,
            "align_items": null,
            "align_self": null,
            "border": null,
            "bottom": null,
            "display": null,
            "flex": null,
            "flex_flow": null,
            "grid_area": null,
            "grid_auto_columns": null,
            "grid_auto_flow": null,
            "grid_auto_rows": null,
            "grid_column": null,
            "grid_gap": null,
            "grid_row": null,
            "grid_template_areas": null,
            "grid_template_columns": null,
            "grid_template_rows": null,
            "height": null,
            "justify_content": null,
            "justify_items": null,
            "left": null,
            "margin": null,
            "max_height": null,
            "max_width": null,
            "min_height": null,
            "min_width": null,
            "object_fit": null,
            "object_position": null,
            "order": null,
            "overflow": null,
            "overflow_x": null,
            "overflow_y": null,
            "padding": null,
            "right": null,
            "top": null,
            "visibility": null,
            "width": null
          }
        },
        "7a1206f4b32e4fb9af2d346eb4346fdf": {
          "model_module": "@jupyter-widgets/base",
          "model_name": "LayoutModel",
          "model_module_version": "1.2.0",
          "state": {
            "_model_module": "@jupyter-widgets/base",
            "_model_module_version": "1.2.0",
            "_model_name": "LayoutModel",
            "_view_count": null,
            "_view_module": "@jupyter-widgets/base",
            "_view_module_version": "1.2.0",
            "_view_name": "LayoutView",
            "align_content": null,
            "align_items": null,
            "align_self": null,
            "border": null,
            "bottom": null,
            "display": null,
            "flex": null,
            "flex_flow": null,
            "grid_area": null,
            "grid_auto_columns": null,
            "grid_auto_flow": null,
            "grid_auto_rows": null,
            "grid_column": null,
            "grid_gap": null,
            "grid_row": null,
            "grid_template_areas": null,
            "grid_template_columns": null,
            "grid_template_rows": null,
            "height": null,
            "justify_content": null,
            "justify_items": null,
            "left": null,
            "margin": null,
            "max_height": null,
            "max_width": null,
            "min_height": null,
            "min_width": null,
            "object_fit": null,
            "object_position": null,
            "order": null,
            "overflow": null,
            "overflow_x": null,
            "overflow_y": null,
            "padding": null,
            "right": null,
            "top": null,
            "visibility": null,
            "width": null
          }
        },
        "1eedd210a9d741e0b79d063ae3cd913a": {
          "model_module": "@jupyter-widgets/controls",
          "model_name": "DescriptionStyleModel",
          "model_module_version": "1.5.0",
          "state": {
            "_model_module": "@jupyter-widgets/controls",
            "_model_module_version": "1.5.0",
            "_model_name": "DescriptionStyleModel",
            "_view_count": null,
            "_view_module": "@jupyter-widgets/base",
            "_view_module_version": "1.2.0",
            "_view_name": "StyleView",
            "description_width": ""
          }
        },
        "e288d5d7f27142a698adb26d923b8fd6": {
          "model_module": "@jupyter-widgets/base",
          "model_name": "LayoutModel",
          "model_module_version": "1.2.0",
          "state": {
            "_model_module": "@jupyter-widgets/base",
            "_model_module_version": "1.2.0",
            "_model_name": "LayoutModel",
            "_view_count": null,
            "_view_module": "@jupyter-widgets/base",
            "_view_module_version": "1.2.0",
            "_view_name": "LayoutView",
            "align_content": null,
            "align_items": null,
            "align_self": null,
            "border": null,
            "bottom": null,
            "display": null,
            "flex": null,
            "flex_flow": null,
            "grid_area": null,
            "grid_auto_columns": null,
            "grid_auto_flow": null,
            "grid_auto_rows": null,
            "grid_column": null,
            "grid_gap": null,
            "grid_row": null,
            "grid_template_areas": null,
            "grid_template_columns": null,
            "grid_template_rows": null,
            "height": null,
            "justify_content": null,
            "justify_items": null,
            "left": null,
            "margin": null,
            "max_height": null,
            "max_width": null,
            "min_height": null,
            "min_width": null,
            "object_fit": null,
            "object_position": null,
            "order": null,
            "overflow": null,
            "overflow_x": null,
            "overflow_y": null,
            "padding": null,
            "right": null,
            "top": null,
            "visibility": null,
            "width": null
          }
        },
        "f7c273cf1bc04276a333eef463ebbc16": {
          "model_module": "@jupyter-widgets/controls",
          "model_name": "ProgressStyleModel",
          "model_module_version": "1.5.0",
          "state": {
            "_model_module": "@jupyter-widgets/controls",
            "_model_module_version": "1.5.0",
            "_model_name": "ProgressStyleModel",
            "_view_count": null,
            "_view_module": "@jupyter-widgets/base",
            "_view_module_version": "1.2.0",
            "_view_name": "StyleView",
            "bar_color": null,
            "description_width": ""
          }
        },
        "4e5d649f18414f7bb7fd795995029983": {
          "model_module": "@jupyter-widgets/base",
          "model_name": "LayoutModel",
          "model_module_version": "1.2.0",
          "state": {
            "_model_module": "@jupyter-widgets/base",
            "_model_module_version": "1.2.0",
            "_model_name": "LayoutModel",
            "_view_count": null,
            "_view_module": "@jupyter-widgets/base",
            "_view_module_version": "1.2.0",
            "_view_name": "LayoutView",
            "align_content": null,
            "align_items": null,
            "align_self": null,
            "border": null,
            "bottom": null,
            "display": null,
            "flex": null,
            "flex_flow": null,
            "grid_area": null,
            "grid_auto_columns": null,
            "grid_auto_flow": null,
            "grid_auto_rows": null,
            "grid_column": null,
            "grid_gap": null,
            "grid_row": null,
            "grid_template_areas": null,
            "grid_template_columns": null,
            "grid_template_rows": null,
            "height": null,
            "justify_content": null,
            "justify_items": null,
            "left": null,
            "margin": null,
            "max_height": null,
            "max_width": null,
            "min_height": null,
            "min_width": null,
            "object_fit": null,
            "object_position": null,
            "order": null,
            "overflow": null,
            "overflow_x": null,
            "overflow_y": null,
            "padding": null,
            "right": null,
            "top": null,
            "visibility": null,
            "width": null
          }
        },
        "42193bb3df084b30a0cf04b3ce482134": {
          "model_module": "@jupyter-widgets/controls",
          "model_name": "DescriptionStyleModel",
          "model_module_version": "1.5.0",
          "state": {
            "_model_module": "@jupyter-widgets/controls",
            "_model_module_version": "1.5.0",
            "_model_name": "DescriptionStyleModel",
            "_view_count": null,
            "_view_module": "@jupyter-widgets/base",
            "_view_module_version": "1.2.0",
            "_view_name": "StyleView",
            "description_width": ""
          }
        },
        "a48c8f198dd042aa9f8ce312ec692bf0": {
          "model_module": "@jupyter-widgets/controls",
          "model_name": "HBoxModel",
          "model_module_version": "1.5.0",
          "state": {
            "_dom_classes": [],
            "_model_module": "@jupyter-widgets/controls",
            "_model_module_version": "1.5.0",
            "_model_name": "HBoxModel",
            "_view_count": null,
            "_view_module": "@jupyter-widgets/controls",
            "_view_module_version": "1.5.0",
            "_view_name": "HBoxView",
            "box_style": "",
            "children": [
              "IPY_MODEL_9ffefb96e2ec4275bde78e777b3a83df",
              "IPY_MODEL_31cfe70c77004aab8e5505b3922e564f",
              "IPY_MODEL_fcc317964d9e4fb4bfbb120de24c5638"
            ],
            "layout": "IPY_MODEL_29788d6555b7471385a5ebe4414a2928"
          }
        },
        "9ffefb96e2ec4275bde78e777b3a83df": {
          "model_module": "@jupyter-widgets/controls",
          "model_name": "HTMLModel",
          "model_module_version": "1.5.0",
          "state": {
            "_dom_classes": [],
            "_model_module": "@jupyter-widgets/controls",
            "_model_module_version": "1.5.0",
            "_model_name": "HTMLModel",
            "_view_count": null,
            "_view_module": "@jupyter-widgets/controls",
            "_view_module_version": "1.5.0",
            "_view_name": "HTMLView",
            "description": "",
            "description_tooltip": null,
            "layout": "IPY_MODEL_f0b460ffccf64b309a12dabc3cc8269f",
            "placeholder": "​",
            "style": "IPY_MODEL_0e13b9981e994f219e809bbf607f22d0",
            "value": "model.safetensors: 100%"
          }
        },
        "31cfe70c77004aab8e5505b3922e564f": {
          "model_module": "@jupyter-widgets/controls",
          "model_name": "FloatProgressModel",
          "model_module_version": "1.5.0",
          "state": {
            "_dom_classes": [],
            "_model_module": "@jupyter-widgets/controls",
            "_model_module_version": "1.5.0",
            "_model_name": "FloatProgressModel",
            "_view_count": null,
            "_view_module": "@jupyter-widgets/controls",
            "_view_module_version": "1.5.0",
            "_view_name": "ProgressView",
            "bar_style": "success",
            "description": "",
            "description_tooltip": null,
            "layout": "IPY_MODEL_7cdd7a16c5aa43df8f5d2fc2978d5294",
            "max": 510359598,
            "min": 0,
            "orientation": "horizontal",
            "style": "IPY_MODEL_db485f8bd5b046189f3a57e05740e6dd",
            "value": 510359598
          }
        },
        "fcc317964d9e4fb4bfbb120de24c5638": {
          "model_module": "@jupyter-widgets/controls",
          "model_name": "HTMLModel",
          "model_module_version": "1.5.0",
          "state": {
            "_dom_classes": [],
            "_model_module": "@jupyter-widgets/controls",
            "_model_module_version": "1.5.0",
            "_model_name": "HTMLModel",
            "_view_count": null,
            "_view_module": "@jupyter-widgets/controls",
            "_view_module_version": "1.5.0",
            "_view_name": "HTMLView",
            "description": "",
            "description_tooltip": null,
            "layout": "IPY_MODEL_b8f0d2075bd74e1ebed85f8cf7bc97d1",
            "placeholder": "​",
            "style": "IPY_MODEL_ba681c063f5a4daebb02d12e9acfd5c8",
            "value": " 510M/510M [00:07&lt;00:00, 106MB/s]"
          }
        },
        "29788d6555b7471385a5ebe4414a2928": {
          "model_module": "@jupyter-widgets/base",
          "model_name": "LayoutModel",
          "model_module_version": "1.2.0",
          "state": {
            "_model_module": "@jupyter-widgets/base",
            "_model_module_version": "1.2.0",
            "_model_name": "LayoutModel",
            "_view_count": null,
            "_view_module": "@jupyter-widgets/base",
            "_view_module_version": "1.2.0",
            "_view_name": "LayoutView",
            "align_content": null,
            "align_items": null,
            "align_self": null,
            "border": null,
            "bottom": null,
            "display": null,
            "flex": null,
            "flex_flow": null,
            "grid_area": null,
            "grid_auto_columns": null,
            "grid_auto_flow": null,
            "grid_auto_rows": null,
            "grid_column": null,
            "grid_gap": null,
            "grid_row": null,
            "grid_template_areas": null,
            "grid_template_columns": null,
            "grid_template_rows": null,
            "height": null,
            "justify_content": null,
            "justify_items": null,
            "left": null,
            "margin": null,
            "max_height": null,
            "max_width": null,
            "min_height": null,
            "min_width": null,
            "object_fit": null,
            "object_position": null,
            "order": null,
            "overflow": null,
            "overflow_x": null,
            "overflow_y": null,
            "padding": null,
            "right": null,
            "top": null,
            "visibility": null,
            "width": null
          }
        },
        "f0b460ffccf64b309a12dabc3cc8269f": {
          "model_module": "@jupyter-widgets/base",
          "model_name": "LayoutModel",
          "model_module_version": "1.2.0",
          "state": {
            "_model_module": "@jupyter-widgets/base",
            "_model_module_version": "1.2.0",
            "_model_name": "LayoutModel",
            "_view_count": null,
            "_view_module": "@jupyter-widgets/base",
            "_view_module_version": "1.2.0",
            "_view_name": "LayoutView",
            "align_content": null,
            "align_items": null,
            "align_self": null,
            "border": null,
            "bottom": null,
            "display": null,
            "flex": null,
            "flex_flow": null,
            "grid_area": null,
            "grid_auto_columns": null,
            "grid_auto_flow": null,
            "grid_auto_rows": null,
            "grid_column": null,
            "grid_gap": null,
            "grid_row": null,
            "grid_template_areas": null,
            "grid_template_columns": null,
            "grid_template_rows": null,
            "height": null,
            "justify_content": null,
            "justify_items": null,
            "left": null,
            "margin": null,
            "max_height": null,
            "max_width": null,
            "min_height": null,
            "min_width": null,
            "object_fit": null,
            "object_position": null,
            "order": null,
            "overflow": null,
            "overflow_x": null,
            "overflow_y": null,
            "padding": null,
            "right": null,
            "top": null,
            "visibility": null,
            "width": null
          }
        },
        "0e13b9981e994f219e809bbf607f22d0": {
          "model_module": "@jupyter-widgets/controls",
          "model_name": "DescriptionStyleModel",
          "model_module_version": "1.5.0",
          "state": {
            "_model_module": "@jupyter-widgets/controls",
            "_model_module_version": "1.5.0",
            "_model_name": "DescriptionStyleModel",
            "_view_count": null,
            "_view_module": "@jupyter-widgets/base",
            "_view_module_version": "1.2.0",
            "_view_name": "StyleView",
            "description_width": ""
          }
        },
        "7cdd7a16c5aa43df8f5d2fc2978d5294": {
          "model_module": "@jupyter-widgets/base",
          "model_name": "LayoutModel",
          "model_module_version": "1.2.0",
          "state": {
            "_model_module": "@jupyter-widgets/base",
            "_model_module_version": "1.2.0",
            "_model_name": "LayoutModel",
            "_view_count": null,
            "_view_module": "@jupyter-widgets/base",
            "_view_module_version": "1.2.0",
            "_view_name": "LayoutView",
            "align_content": null,
            "align_items": null,
            "align_self": null,
            "border": null,
            "bottom": null,
            "display": null,
            "flex": null,
            "flex_flow": null,
            "grid_area": null,
            "grid_auto_columns": null,
            "grid_auto_flow": null,
            "grid_auto_rows": null,
            "grid_column": null,
            "grid_gap": null,
            "grid_row": null,
            "grid_template_areas": null,
            "grid_template_columns": null,
            "grid_template_rows": null,
            "height": null,
            "justify_content": null,
            "justify_items": null,
            "left": null,
            "margin": null,
            "max_height": null,
            "max_width": null,
            "min_height": null,
            "min_width": null,
            "object_fit": null,
            "object_position": null,
            "order": null,
            "overflow": null,
            "overflow_x": null,
            "overflow_y": null,
            "padding": null,
            "right": null,
            "top": null,
            "visibility": null,
            "width": null
          }
        },
        "db485f8bd5b046189f3a57e05740e6dd": {
          "model_module": "@jupyter-widgets/controls",
          "model_name": "ProgressStyleModel",
          "model_module_version": "1.5.0",
          "state": {
            "_model_module": "@jupyter-widgets/controls",
            "_model_module_version": "1.5.0",
            "_model_name": "ProgressStyleModel",
            "_view_count": null,
            "_view_module": "@jupyter-widgets/base",
            "_view_module_version": "1.2.0",
            "_view_name": "StyleView",
            "bar_color": null,
            "description_width": ""
          }
        },
        "b8f0d2075bd74e1ebed85f8cf7bc97d1": {
          "model_module": "@jupyter-widgets/base",
          "model_name": "LayoutModel",
          "model_module_version": "1.2.0",
          "state": {
            "_model_module": "@jupyter-widgets/base",
            "_model_module_version": "1.2.0",
            "_model_name": "LayoutModel",
            "_view_count": null,
            "_view_module": "@jupyter-widgets/base",
            "_view_module_version": "1.2.0",
            "_view_name": "LayoutView",
            "align_content": null,
            "align_items": null,
            "align_self": null,
            "border": null,
            "bottom": null,
            "display": null,
            "flex": null,
            "flex_flow": null,
            "grid_area": null,
            "grid_auto_columns": null,
            "grid_auto_flow": null,
            "grid_auto_rows": null,
            "grid_column": null,
            "grid_gap": null,
            "grid_row": null,
            "grid_template_areas": null,
            "grid_template_columns": null,
            "grid_template_rows": null,
            "height": null,
            "justify_content": null,
            "justify_items": null,
            "left": null,
            "margin": null,
            "max_height": null,
            "max_width": null,
            "min_height": null,
            "min_width": null,
            "object_fit": null,
            "object_position": null,
            "order": null,
            "overflow": null,
            "overflow_x": null,
            "overflow_y": null,
            "padding": null,
            "right": null,
            "top": null,
            "visibility": null,
            "width": null
          }
        },
        "ba681c063f5a4daebb02d12e9acfd5c8": {
          "model_module": "@jupyter-widgets/controls",
          "model_name": "DescriptionStyleModel",
          "model_module_version": "1.5.0",
          "state": {
            "_model_module": "@jupyter-widgets/controls",
            "_model_module_version": "1.5.0",
            "_model_name": "DescriptionStyleModel",
            "_view_count": null,
            "_view_module": "@jupyter-widgets/base",
            "_view_module_version": "1.2.0",
            "_view_name": "StyleView",
            "description_width": ""
          }
        },
        "e62433f2122d4836b75e9d5135ad7dcf": {
          "model_module": "@jupyter-widgets/controls",
          "model_name": "HBoxModel",
          "model_module_version": "1.5.0",
          "state": {
            "_dom_classes": [],
            "_model_module": "@jupyter-widgets/controls",
            "_model_module_version": "1.5.0",
            "_model_name": "HBoxModel",
            "_view_count": null,
            "_view_module": "@jupyter-widgets/controls",
            "_view_module_version": "1.5.0",
            "_view_name": "HBoxView",
            "box_style": "",
            "children": [
              "IPY_MODEL_f0a1e5d0367c47bb8cd3d8f59ce8941d",
              "IPY_MODEL_18285e167fcb4891909aac9c8c817664",
              "IPY_MODEL_76f2a7fa38d645aeb4e154df94a52465"
            ],
            "layout": "IPY_MODEL_b1fa1c49dee048b8aac9bff3942eb6b4"
          }
        },
        "f0a1e5d0367c47bb8cd3d8f59ce8941d": {
          "model_module": "@jupyter-widgets/controls",
          "model_name": "HTMLModel",
          "model_module_version": "1.5.0",
          "state": {
            "_dom_classes": [],
            "_model_module": "@jupyter-widgets/controls",
            "_model_module_version": "1.5.0",
            "_model_name": "HTMLModel",
            "_view_count": null,
            "_view_module": "@jupyter-widgets/controls",
            "_view_module_version": "1.5.0",
            "_view_name": "HTMLView",
            "description": "",
            "description_tooltip": null,
            "layout": "IPY_MODEL_e17bfd4f522b4341909fba01a6becd71",
            "placeholder": "​",
            "style": "IPY_MODEL_9c86f2dbb8a343389c2c69bebb202ccd",
            "value": "tokenizer_config.json: 100%"
          }
        },
        "18285e167fcb4891909aac9c8c817664": {
          "model_module": "@jupyter-widgets/controls",
          "model_name": "FloatProgressModel",
          "model_module_version": "1.5.0",
          "state": {
            "_dom_classes": [],
            "_model_module": "@jupyter-widgets/controls",
            "_model_module_version": "1.5.0",
            "_model_name": "FloatProgressModel",
            "_view_count": null,
            "_view_module": "@jupyter-widgets/controls",
            "_view_module_version": "1.5.0",
            "_view_name": "ProgressView",
            "bar_style": "success",
            "description": "",
            "description_tooltip": null,
            "layout": "IPY_MODEL_92de91569e374eb2869897612ca3f8d2",
            "max": 620,
            "min": 0,
            "orientation": "horizontal",
            "style": "IPY_MODEL_790347877ed94f388a559d96b50c9581",
            "value": 620
          }
        },
        "76f2a7fa38d645aeb4e154df94a52465": {
          "model_module": "@jupyter-widgets/controls",
          "model_name": "HTMLModel",
          "model_module_version": "1.5.0",
          "state": {
            "_dom_classes": [],
            "_model_module": "@jupyter-widgets/controls",
            "_model_module_version": "1.5.0",
            "_model_name": "HTMLModel",
            "_view_count": null,
            "_view_module": "@jupyter-widgets/controls",
            "_view_module_version": "1.5.0",
            "_view_name": "HTMLView",
            "description": "",
            "description_tooltip": null,
            "layout": "IPY_MODEL_5a6b796f9dc945b4b76c70ed38b402de",
            "placeholder": "​",
            "style": "IPY_MODEL_7827162f1d374335b5734809949ee79a",
            "value": " 620/620 [00:00&lt;00:00, 4.15kB/s]"
          }
        },
        "b1fa1c49dee048b8aac9bff3942eb6b4": {
          "model_module": "@jupyter-widgets/base",
          "model_name": "LayoutModel",
          "model_module_version": "1.2.0",
          "state": {
            "_model_module": "@jupyter-widgets/base",
            "_model_module_version": "1.2.0",
            "_model_name": "LayoutModel",
            "_view_count": null,
            "_view_module": "@jupyter-widgets/base",
            "_view_module_version": "1.2.0",
            "_view_name": "LayoutView",
            "align_content": null,
            "align_items": null,
            "align_self": null,
            "border": null,
            "bottom": null,
            "display": null,
            "flex": null,
            "flex_flow": null,
            "grid_area": null,
            "grid_auto_columns": null,
            "grid_auto_flow": null,
            "grid_auto_rows": null,
            "grid_column": null,
            "grid_gap": null,
            "grid_row": null,
            "grid_template_areas": null,
            "grid_template_columns": null,
            "grid_template_rows": null,
            "height": null,
            "justify_content": null,
            "justify_items": null,
            "left": null,
            "margin": null,
            "max_height": null,
            "max_width": null,
            "min_height": null,
            "min_width": null,
            "object_fit": null,
            "object_position": null,
            "order": null,
            "overflow": null,
            "overflow_x": null,
            "overflow_y": null,
            "padding": null,
            "right": null,
            "top": null,
            "visibility": null,
            "width": null
          }
        },
        "e17bfd4f522b4341909fba01a6becd71": {
          "model_module": "@jupyter-widgets/base",
          "model_name": "LayoutModel",
          "model_module_version": "1.2.0",
          "state": {
            "_model_module": "@jupyter-widgets/base",
            "_model_module_version": "1.2.0",
            "_model_name": "LayoutModel",
            "_view_count": null,
            "_view_module": "@jupyter-widgets/base",
            "_view_module_version": "1.2.0",
            "_view_name": "LayoutView",
            "align_content": null,
            "align_items": null,
            "align_self": null,
            "border": null,
            "bottom": null,
            "display": null,
            "flex": null,
            "flex_flow": null,
            "grid_area": null,
            "grid_auto_columns": null,
            "grid_auto_flow": null,
            "grid_auto_rows": null,
            "grid_column": null,
            "grid_gap": null,
            "grid_row": null,
            "grid_template_areas": null,
            "grid_template_columns": null,
            "grid_template_rows": null,
            "height": null,
            "justify_content": null,
            "justify_items": null,
            "left": null,
            "margin": null,
            "max_height": null,
            "max_width": null,
            "min_height": null,
            "min_width": null,
            "object_fit": null,
            "object_position": null,
            "order": null,
            "overflow": null,
            "overflow_x": null,
            "overflow_y": null,
            "padding": null,
            "right": null,
            "top": null,
            "visibility": null,
            "width": null
          }
        },
        "9c86f2dbb8a343389c2c69bebb202ccd": {
          "model_module": "@jupyter-widgets/controls",
          "model_name": "DescriptionStyleModel",
          "model_module_version": "1.5.0",
          "state": {
            "_model_module": "@jupyter-widgets/controls",
            "_model_module_version": "1.5.0",
            "_model_name": "DescriptionStyleModel",
            "_view_count": null,
            "_view_module": "@jupyter-widgets/base",
            "_view_module_version": "1.2.0",
            "_view_name": "StyleView",
            "description_width": ""
          }
        },
        "92de91569e374eb2869897612ca3f8d2": {
          "model_module": "@jupyter-widgets/base",
          "model_name": "LayoutModel",
          "model_module_version": "1.2.0",
          "state": {
            "_model_module": "@jupyter-widgets/base",
            "_model_module_version": "1.2.0",
            "_model_name": "LayoutModel",
            "_view_count": null,
            "_view_module": "@jupyter-widgets/base",
            "_view_module_version": "1.2.0",
            "_view_name": "LayoutView",
            "align_content": null,
            "align_items": null,
            "align_self": null,
            "border": null,
            "bottom": null,
            "display": null,
            "flex": null,
            "flex_flow": null,
            "grid_area": null,
            "grid_auto_columns": null,
            "grid_auto_flow": null,
            "grid_auto_rows": null,
            "grid_column": null,
            "grid_gap": null,
            "grid_row": null,
            "grid_template_areas": null,
            "grid_template_columns": null,
            "grid_template_rows": null,
            "height": null,
            "justify_content": null,
            "justify_items": null,
            "left": null,
            "margin": null,
            "max_height": null,
            "max_width": null,
            "min_height": null,
            "min_width": null,
            "object_fit": null,
            "object_position": null,
            "order": null,
            "overflow": null,
            "overflow_x": null,
            "overflow_y": null,
            "padding": null,
            "right": null,
            "top": null,
            "visibility": null,
            "width": null
          }
        },
        "790347877ed94f388a559d96b50c9581": {
          "model_module": "@jupyter-widgets/controls",
          "model_name": "ProgressStyleModel",
          "model_module_version": "1.5.0",
          "state": {
            "_model_module": "@jupyter-widgets/controls",
            "_model_module_version": "1.5.0",
            "_model_name": "ProgressStyleModel",
            "_view_count": null,
            "_view_module": "@jupyter-widgets/base",
            "_view_module_version": "1.2.0",
            "_view_name": "StyleView",
            "bar_color": null,
            "description_width": ""
          }
        },
        "5a6b796f9dc945b4b76c70ed38b402de": {
          "model_module": "@jupyter-widgets/base",
          "model_name": "LayoutModel",
          "model_module_version": "1.2.0",
          "state": {
            "_model_module": "@jupyter-widgets/base",
            "_model_module_version": "1.2.0",
            "_model_name": "LayoutModel",
            "_view_count": null,
            "_view_module": "@jupyter-widgets/base",
            "_view_module_version": "1.2.0",
            "_view_name": "LayoutView",
            "align_content": null,
            "align_items": null,
            "align_self": null,
            "border": null,
            "bottom": null,
            "display": null,
            "flex": null,
            "flex_flow": null,
            "grid_area": null,
            "grid_auto_columns": null,
            "grid_auto_flow": null,
            "grid_auto_rows": null,
            "grid_column": null,
            "grid_gap": null,
            "grid_row": null,
            "grid_template_areas": null,
            "grid_template_columns": null,
            "grid_template_rows": null,
            "height": null,
            "justify_content": null,
            "justify_items": null,
            "left": null,
            "margin": null,
            "max_height": null,
            "max_width": null,
            "min_height": null,
            "min_width": null,
            "object_fit": null,
            "object_position": null,
            "order": null,
            "overflow": null,
            "overflow_x": null,
            "overflow_y": null,
            "padding": null,
            "right": null,
            "top": null,
            "visibility": null,
            "width": null
          }
        },
        "7827162f1d374335b5734809949ee79a": {
          "model_module": "@jupyter-widgets/controls",
          "model_name": "DescriptionStyleModel",
          "model_module_version": "1.5.0",
          "state": {
            "_model_module": "@jupyter-widgets/controls",
            "_model_module_version": "1.5.0",
            "_model_name": "DescriptionStyleModel",
            "_view_count": null,
            "_view_module": "@jupyter-widgets/base",
            "_view_module_version": "1.2.0",
            "_view_name": "StyleView",
            "description_width": ""
          }
        },
        "b2462da627aa457788a4d6066948bb30": {
          "model_module": "@jupyter-widgets/controls",
          "model_name": "HBoxModel",
          "model_module_version": "1.5.0",
          "state": {
            "_dom_classes": [],
            "_model_module": "@jupyter-widgets/controls",
            "_model_module_version": "1.5.0",
            "_model_name": "HBoxModel",
            "_view_count": null,
            "_view_module": "@jupyter-widgets/controls",
            "_view_module_version": "1.5.0",
            "_view_name": "HBoxView",
            "box_style": "",
            "children": [
              "IPY_MODEL_469ef4d849c44f8ba69278da25fa13cd",
              "IPY_MODEL_2a8f2a64e0fa463e96e55e296793b0e7",
              "IPY_MODEL_0d897837fc5b494e89b3bd9ec134b4fd"
            ],
            "layout": "IPY_MODEL_3d54dd2da3634044a3029ffce97246cb"
          }
        },
        "469ef4d849c44f8ba69278da25fa13cd": {
          "model_module": "@jupyter-widgets/controls",
          "model_name": "HTMLModel",
          "model_module_version": "1.5.0",
          "state": {
            "_dom_classes": [],
            "_model_module": "@jupyter-widgets/controls",
            "_model_module_version": "1.5.0",
            "_model_name": "HTMLModel",
            "_view_count": null,
            "_view_module": "@jupyter-widgets/controls",
            "_view_module_version": "1.5.0",
            "_view_name": "HTMLView",
            "description": "",
            "description_tooltip": null,
            "layout": "IPY_MODEL_56703f4206994c3181d7e91d555e251f",
            "placeholder": "​",
            "style": "IPY_MODEL_9613aff24aa0437595e2f301fa67b914",
            "value": "vocab.json: 100%"
          }
        },
        "2a8f2a64e0fa463e96e55e296793b0e7": {
          "model_module": "@jupyter-widgets/controls",
          "model_name": "FloatProgressModel",
          "model_module_version": "1.5.0",
          "state": {
            "_dom_classes": [],
            "_model_module": "@jupyter-widgets/controls",
            "_model_module_version": "1.5.0",
            "_model_name": "FloatProgressModel",
            "_view_count": null,
            "_view_module": "@jupyter-widgets/controls",
            "_view_module_version": "1.5.0",
            "_view_name": "ProgressView",
            "bar_style": "success",
            "description": "",
            "description_tooltip": null,
            "layout": "IPY_MODEL_3d4ece326c2b4250ad790c429839dd8e",
            "max": 849679,
            "min": 0,
            "orientation": "horizontal",
            "style": "IPY_MODEL_b1822979a9ca451092ee5903482ab509",
            "value": 849679
          }
        },
        "0d897837fc5b494e89b3bd9ec134b4fd": {
          "model_module": "@jupyter-widgets/controls",
          "model_name": "HTMLModel",
          "model_module_version": "1.5.0",
          "state": {
            "_dom_classes": [],
            "_model_module": "@jupyter-widgets/controls",
            "_model_module_version": "1.5.0",
            "_model_name": "HTMLModel",
            "_view_count": null,
            "_view_module": "@jupyter-widgets/controls",
            "_view_module_version": "1.5.0",
            "_view_name": "HTMLView",
            "description": "",
            "description_tooltip": null,
            "layout": "IPY_MODEL_5638a2dc30fc49cabacdb570d3591070",
            "placeholder": "​",
            "style": "IPY_MODEL_a59c2edb93524c678c6790c948d4cafa",
            "value": " 850k/850k [00:00&lt;00:00, 5.60MB/s]"
          }
        },
        "3d54dd2da3634044a3029ffce97246cb": {
          "model_module": "@jupyter-widgets/base",
          "model_name": "LayoutModel",
          "model_module_version": "1.2.0",
          "state": {
            "_model_module": "@jupyter-widgets/base",
            "_model_module_version": "1.2.0",
            "_model_name": "LayoutModel",
            "_view_count": null,
            "_view_module": "@jupyter-widgets/base",
            "_view_module_version": "1.2.0",
            "_view_name": "LayoutView",
            "align_content": null,
            "align_items": null,
            "align_self": null,
            "border": null,
            "bottom": null,
            "display": null,
            "flex": null,
            "flex_flow": null,
            "grid_area": null,
            "grid_auto_columns": null,
            "grid_auto_flow": null,
            "grid_auto_rows": null,
            "grid_column": null,
            "grid_gap": null,
            "grid_row": null,
            "grid_template_areas": null,
            "grid_template_columns": null,
            "grid_template_rows": null,
            "height": null,
            "justify_content": null,
            "justify_items": null,
            "left": null,
            "margin": null,
            "max_height": null,
            "max_width": null,
            "min_height": null,
            "min_width": null,
            "object_fit": null,
            "object_position": null,
            "order": null,
            "overflow": null,
            "overflow_x": null,
            "overflow_y": null,
            "padding": null,
            "right": null,
            "top": null,
            "visibility": null,
            "width": null
          }
        },
        "56703f4206994c3181d7e91d555e251f": {
          "model_module": "@jupyter-widgets/base",
          "model_name": "LayoutModel",
          "model_module_version": "1.2.0",
          "state": {
            "_model_module": "@jupyter-widgets/base",
            "_model_module_version": "1.2.0",
            "_model_name": "LayoutModel",
            "_view_count": null,
            "_view_module": "@jupyter-widgets/base",
            "_view_module_version": "1.2.0",
            "_view_name": "LayoutView",
            "align_content": null,
            "align_items": null,
            "align_self": null,
            "border": null,
            "bottom": null,
            "display": null,
            "flex": null,
            "flex_flow": null,
            "grid_area": null,
            "grid_auto_columns": null,
            "grid_auto_flow": null,
            "grid_auto_rows": null,
            "grid_column": null,
            "grid_gap": null,
            "grid_row": null,
            "grid_template_areas": null,
            "grid_template_columns": null,
            "grid_template_rows": null,
            "height": null,
            "justify_content": null,
            "justify_items": null,
            "left": null,
            "margin": null,
            "max_height": null,
            "max_width": null,
            "min_height": null,
            "min_width": null,
            "object_fit": null,
            "object_position": null,
            "order": null,
            "overflow": null,
            "overflow_x": null,
            "overflow_y": null,
            "padding": null,
            "right": null,
            "top": null,
            "visibility": null,
            "width": null
          }
        },
        "9613aff24aa0437595e2f301fa67b914": {
          "model_module": "@jupyter-widgets/controls",
          "model_name": "DescriptionStyleModel",
          "model_module_version": "1.5.0",
          "state": {
            "_model_module": "@jupyter-widgets/controls",
            "_model_module_version": "1.5.0",
            "_model_name": "DescriptionStyleModel",
            "_view_count": null,
            "_view_module": "@jupyter-widgets/base",
            "_view_module_version": "1.2.0",
            "_view_name": "StyleView",
            "description_width": ""
          }
        },
        "3d4ece326c2b4250ad790c429839dd8e": {
          "model_module": "@jupyter-widgets/base",
          "model_name": "LayoutModel",
          "model_module_version": "1.2.0",
          "state": {
            "_model_module": "@jupyter-widgets/base",
            "_model_module_version": "1.2.0",
            "_model_name": "LayoutModel",
            "_view_count": null,
            "_view_module": "@jupyter-widgets/base",
            "_view_module_version": "1.2.0",
            "_view_name": "LayoutView",
            "align_content": null,
            "align_items": null,
            "align_self": null,
            "border": null,
            "bottom": null,
            "display": null,
            "flex": null,
            "flex_flow": null,
            "grid_area": null,
            "grid_auto_columns": null,
            "grid_auto_flow": null,
            "grid_auto_rows": null,
            "grid_column": null,
            "grid_gap": null,
            "grid_row": null,
            "grid_template_areas": null,
            "grid_template_columns": null,
            "grid_template_rows": null,
            "height": null,
            "justify_content": null,
            "justify_items": null,
            "left": null,
            "margin": null,
            "max_height": null,
            "max_width": null,
            "min_height": null,
            "min_width": null,
            "object_fit": null,
            "object_position": null,
            "order": null,
            "overflow": null,
            "overflow_x": null,
            "overflow_y": null,
            "padding": null,
            "right": null,
            "top": null,
            "visibility": null,
            "width": null
          }
        },
        "b1822979a9ca451092ee5903482ab509": {
          "model_module": "@jupyter-widgets/controls",
          "model_name": "ProgressStyleModel",
          "model_module_version": "1.5.0",
          "state": {
            "_model_module": "@jupyter-widgets/controls",
            "_model_module_version": "1.5.0",
            "_model_name": "ProgressStyleModel",
            "_view_count": null,
            "_view_module": "@jupyter-widgets/base",
            "_view_module_version": "1.2.0",
            "_view_name": "StyleView",
            "bar_color": null,
            "description_width": ""
          }
        },
        "5638a2dc30fc49cabacdb570d3591070": {
          "model_module": "@jupyter-widgets/base",
          "model_name": "LayoutModel",
          "model_module_version": "1.2.0",
          "state": {
            "_model_module": "@jupyter-widgets/base",
            "_model_module_version": "1.2.0",
            "_model_name": "LayoutModel",
            "_view_count": null,
            "_view_module": "@jupyter-widgets/base",
            "_view_module_version": "1.2.0",
            "_view_name": "LayoutView",
            "align_content": null,
            "align_items": null,
            "align_self": null,
            "border": null,
            "bottom": null,
            "display": null,
            "flex": null,
            "flex_flow": null,
            "grid_area": null,
            "grid_auto_columns": null,
            "grid_auto_flow": null,
            "grid_auto_rows": null,
            "grid_column": null,
            "grid_gap": null,
            "grid_row": null,
            "grid_template_areas": null,
            "grid_template_columns": null,
            "grid_template_rows": null,
            "height": null,
            "justify_content": null,
            "justify_items": null,
            "left": null,
            "margin": null,
            "max_height": null,
            "max_width": null,
            "min_height": null,
            "min_width": null,
            "object_fit": null,
            "object_position": null,
            "order": null,
            "overflow": null,
            "overflow_x": null,
            "overflow_y": null,
            "padding": null,
            "right": null,
            "top": null,
            "visibility": null,
            "width": null
          }
        },
        "a59c2edb93524c678c6790c948d4cafa": {
          "model_module": "@jupyter-widgets/controls",
          "model_name": "DescriptionStyleModel",
          "model_module_version": "1.5.0",
          "state": {
            "_model_module": "@jupyter-widgets/controls",
            "_model_module_version": "1.5.0",
            "_model_name": "DescriptionStyleModel",
            "_view_count": null,
            "_view_module": "@jupyter-widgets/base",
            "_view_module_version": "1.2.0",
            "_view_name": "StyleView",
            "description_width": ""
          }
        },
        "c8c2765149f0479b865b92369ca56bcf": {
          "model_module": "@jupyter-widgets/controls",
          "model_name": "HBoxModel",
          "model_module_version": "1.5.0",
          "state": {
            "_dom_classes": [],
            "_model_module": "@jupyter-widgets/controls",
            "_model_module_version": "1.5.0",
            "_model_name": "HBoxModel",
            "_view_count": null,
            "_view_module": "@jupyter-widgets/controls",
            "_view_module_version": "1.5.0",
            "_view_name": "HBoxView",
            "box_style": "",
            "children": [
              "IPY_MODEL_059d07f16f4f4f2aafeebbe3153dc760",
              "IPY_MODEL_10b6fd79d9d047ea83150229b9fbc599",
              "IPY_MODEL_aa517ab3435f48a8862ed9bfa7930fde"
            ],
            "layout": "IPY_MODEL_949c96b50c694ac3b81aade6dacf5dee"
          }
        },
        "059d07f16f4f4f2aafeebbe3153dc760": {
          "model_module": "@jupyter-widgets/controls",
          "model_name": "HTMLModel",
          "model_module_version": "1.5.0",
          "state": {
            "_dom_classes": [],
            "_model_module": "@jupyter-widgets/controls",
            "_model_module_version": "1.5.0",
            "_model_name": "HTMLModel",
            "_view_count": null,
            "_view_module": "@jupyter-widgets/controls",
            "_view_module_version": "1.5.0",
            "_view_name": "HTMLView",
            "description": "",
            "description_tooltip": null,
            "layout": "IPY_MODEL_d05045f8ced5452a89a56b520ea55f46",
            "placeholder": "​",
            "style": "IPY_MODEL_8722a97e66fb4e48b363c23b4ee4bb41",
            "value": "merges.txt: 100%"
          }
        },
        "10b6fd79d9d047ea83150229b9fbc599": {
          "model_module": "@jupyter-widgets/controls",
          "model_name": "FloatProgressModel",
          "model_module_version": "1.5.0",
          "state": {
            "_dom_classes": [],
            "_model_module": "@jupyter-widgets/controls",
            "_model_module_version": "1.5.0",
            "_model_name": "FloatProgressModel",
            "_view_count": null,
            "_view_module": "@jupyter-widgets/controls",
            "_view_module_version": "1.5.0",
            "_view_name": "ProgressView",
            "bar_style": "success",
            "description": "",
            "description_tooltip": null,
            "layout": "IPY_MODEL_af1c3dcf9c3f4cac80ec18aebcabc799",
            "max": 507987,
            "min": 0,
            "orientation": "horizontal",
            "style": "IPY_MODEL_c2ab4b0466ab42f0b9900d93f2b30b5e",
            "value": 507987
          }
        },
        "aa517ab3435f48a8862ed9bfa7930fde": {
          "model_module": "@jupyter-widgets/controls",
          "model_name": "HTMLModel",
          "model_module_version": "1.5.0",
          "state": {
            "_dom_classes": [],
            "_model_module": "@jupyter-widgets/controls",
            "_model_module_version": "1.5.0",
            "_model_name": "HTMLModel",
            "_view_count": null,
            "_view_module": "@jupyter-widgets/controls",
            "_view_module_version": "1.5.0",
            "_view_name": "HTMLView",
            "description": "",
            "description_tooltip": null,
            "layout": "IPY_MODEL_c055ad856be84cd98150a09faecef1dc",
            "placeholder": "​",
            "style": "IPY_MODEL_d47775a8ac4f48c99839ea8a4c25885b",
            "value": " 508k/508k [00:00&lt;00:00, 4.02MB/s]"
          }
        },
        "949c96b50c694ac3b81aade6dacf5dee": {
          "model_module": "@jupyter-widgets/base",
          "model_name": "LayoutModel",
          "model_module_version": "1.2.0",
          "state": {
            "_model_module": "@jupyter-widgets/base",
            "_model_module_version": "1.2.0",
            "_model_name": "LayoutModel",
            "_view_count": null,
            "_view_module": "@jupyter-widgets/base",
            "_view_module_version": "1.2.0",
            "_view_name": "LayoutView",
            "align_content": null,
            "align_items": null,
            "align_self": null,
            "border": null,
            "bottom": null,
            "display": null,
            "flex": null,
            "flex_flow": null,
            "grid_area": null,
            "grid_auto_columns": null,
            "grid_auto_flow": null,
            "grid_auto_rows": null,
            "grid_column": null,
            "grid_gap": null,
            "grid_row": null,
            "grid_template_areas": null,
            "grid_template_columns": null,
            "grid_template_rows": null,
            "height": null,
            "justify_content": null,
            "justify_items": null,
            "left": null,
            "margin": null,
            "max_height": null,
            "max_width": null,
            "min_height": null,
            "min_width": null,
            "object_fit": null,
            "object_position": null,
            "order": null,
            "overflow": null,
            "overflow_x": null,
            "overflow_y": null,
            "padding": null,
            "right": null,
            "top": null,
            "visibility": null,
            "width": null
          }
        },
        "d05045f8ced5452a89a56b520ea55f46": {
          "model_module": "@jupyter-widgets/base",
          "model_name": "LayoutModel",
          "model_module_version": "1.2.0",
          "state": {
            "_model_module": "@jupyter-widgets/base",
            "_model_module_version": "1.2.0",
            "_model_name": "LayoutModel",
            "_view_count": null,
            "_view_module": "@jupyter-widgets/base",
            "_view_module_version": "1.2.0",
            "_view_name": "LayoutView",
            "align_content": null,
            "align_items": null,
            "align_self": null,
            "border": null,
            "bottom": null,
            "display": null,
            "flex": null,
            "flex_flow": null,
            "grid_area": null,
            "grid_auto_columns": null,
            "grid_auto_flow": null,
            "grid_auto_rows": null,
            "grid_column": null,
            "grid_gap": null,
            "grid_row": null,
            "grid_template_areas": null,
            "grid_template_columns": null,
            "grid_template_rows": null,
            "height": null,
            "justify_content": null,
            "justify_items": null,
            "left": null,
            "margin": null,
            "max_height": null,
            "max_width": null,
            "min_height": null,
            "min_width": null,
            "object_fit": null,
            "object_position": null,
            "order": null,
            "overflow": null,
            "overflow_x": null,
            "overflow_y": null,
            "padding": null,
            "right": null,
            "top": null,
            "visibility": null,
            "width": null
          }
        },
        "8722a97e66fb4e48b363c23b4ee4bb41": {
          "model_module": "@jupyter-widgets/controls",
          "model_name": "DescriptionStyleModel",
          "model_module_version": "1.5.0",
          "state": {
            "_model_module": "@jupyter-widgets/controls",
            "_model_module_version": "1.5.0",
            "_model_name": "DescriptionStyleModel",
            "_view_count": null,
            "_view_module": "@jupyter-widgets/base",
            "_view_module_version": "1.2.0",
            "_view_name": "StyleView",
            "description_width": ""
          }
        },
        "af1c3dcf9c3f4cac80ec18aebcabc799": {
          "model_module": "@jupyter-widgets/base",
          "model_name": "LayoutModel",
          "model_module_version": "1.2.0",
          "state": {
            "_model_module": "@jupyter-widgets/base",
            "_model_module_version": "1.2.0",
            "_model_name": "LayoutModel",
            "_view_count": null,
            "_view_module": "@jupyter-widgets/base",
            "_view_module_version": "1.2.0",
            "_view_name": "LayoutView",
            "align_content": null,
            "align_items": null,
            "align_self": null,
            "border": null,
            "bottom": null,
            "display": null,
            "flex": null,
            "flex_flow": null,
            "grid_area": null,
            "grid_auto_columns": null,
            "grid_auto_flow": null,
            "grid_auto_rows": null,
            "grid_column": null,
            "grid_gap": null,
            "grid_row": null,
            "grid_template_areas": null,
            "grid_template_columns": null,
            "grid_template_rows": null,
            "height": null,
            "justify_content": null,
            "justify_items": null,
            "left": null,
            "margin": null,
            "max_height": null,
            "max_width": null,
            "min_height": null,
            "min_width": null,
            "object_fit": null,
            "object_position": null,
            "order": null,
            "overflow": null,
            "overflow_x": null,
            "overflow_y": null,
            "padding": null,
            "right": null,
            "top": null,
            "visibility": null,
            "width": null
          }
        },
        "c2ab4b0466ab42f0b9900d93f2b30b5e": {
          "model_module": "@jupyter-widgets/controls",
          "model_name": "ProgressStyleModel",
          "model_module_version": "1.5.0",
          "state": {
            "_model_module": "@jupyter-widgets/controls",
            "_model_module_version": "1.5.0",
            "_model_name": "ProgressStyleModel",
            "_view_count": null,
            "_view_module": "@jupyter-widgets/base",
            "_view_module_version": "1.2.0",
            "_view_name": "StyleView",
            "bar_color": null,
            "description_width": ""
          }
        },
        "c055ad856be84cd98150a09faecef1dc": {
          "model_module": "@jupyter-widgets/base",
          "model_name": "LayoutModel",
          "model_module_version": "1.2.0",
          "state": {
            "_model_module": "@jupyter-widgets/base",
            "_model_module_version": "1.2.0",
            "_model_name": "LayoutModel",
            "_view_count": null,
            "_view_module": "@jupyter-widgets/base",
            "_view_module_version": "1.2.0",
            "_view_name": "LayoutView",
            "align_content": null,
            "align_items": null,
            "align_self": null,
            "border": null,
            "bottom": null,
            "display": null,
            "flex": null,
            "flex_flow": null,
            "grid_area": null,
            "grid_auto_columns": null,
            "grid_auto_flow": null,
            "grid_auto_rows": null,
            "grid_column": null,
            "grid_gap": null,
            "grid_row": null,
            "grid_template_areas": null,
            "grid_template_columns": null,
            "grid_template_rows": null,
            "height": null,
            "justify_content": null,
            "justify_items": null,
            "left": null,
            "margin": null,
            "max_height": null,
            "max_width": null,
            "min_height": null,
            "min_width": null,
            "object_fit": null,
            "object_position": null,
            "order": null,
            "overflow": null,
            "overflow_x": null,
            "overflow_y": null,
            "padding": null,
            "right": null,
            "top": null,
            "visibility": null,
            "width": null
          }
        },
        "d47775a8ac4f48c99839ea8a4c25885b": {
          "model_module": "@jupyter-widgets/controls",
          "model_name": "DescriptionStyleModel",
          "model_module_version": "1.5.0",
          "state": {
            "_model_module": "@jupyter-widgets/controls",
            "_model_module_version": "1.5.0",
            "_model_name": "DescriptionStyleModel",
            "_view_count": null,
            "_view_module": "@jupyter-widgets/base",
            "_view_module_version": "1.2.0",
            "_view_name": "StyleView",
            "description_width": ""
          }
        },
        "b12bdd51a1104de7bc6aaf82d8ed5673": {
          "model_module": "@jupyter-widgets/controls",
          "model_name": "HBoxModel",
          "model_module_version": "1.5.0",
          "state": {
            "_dom_classes": [],
            "_model_module": "@jupyter-widgets/controls",
            "_model_module_version": "1.5.0",
            "_model_name": "HBoxModel",
            "_view_count": null,
            "_view_module": "@jupyter-widgets/controls",
            "_view_module_version": "1.5.0",
            "_view_name": "HBoxView",
            "box_style": "",
            "children": [
              "IPY_MODEL_91476eead5e44ff29a3f77d6fe3ad7b8",
              "IPY_MODEL_b88161528dec4b3596e91b64dd0fbe17",
              "IPY_MODEL_4663a316f9f54895a019e5ae83b5c84d"
            ],
            "layout": "IPY_MODEL_2ee20227a567438581b0083d8704a3d1"
          }
        },
        "91476eead5e44ff29a3f77d6fe3ad7b8": {
          "model_module": "@jupyter-widgets/controls",
          "model_name": "HTMLModel",
          "model_module_version": "1.5.0",
          "state": {
            "_dom_classes": [],
            "_model_module": "@jupyter-widgets/controls",
            "_model_module_version": "1.5.0",
            "_model_name": "HTMLModel",
            "_view_count": null,
            "_view_module": "@jupyter-widgets/controls",
            "_view_module_version": "1.5.0",
            "_view_name": "HTMLView",
            "description": "",
            "description_tooltip": null,
            "layout": "IPY_MODEL_8bb2c5d8b63c482c9da91fde08b4cd3b",
            "placeholder": "​",
            "style": "IPY_MODEL_e58f81e7b7c84a919327154ad2d9e8ee",
            "value": "special_tokens_map.json: 100%"
          }
        },
        "b88161528dec4b3596e91b64dd0fbe17": {
          "model_module": "@jupyter-widgets/controls",
          "model_name": "FloatProgressModel",
          "model_module_version": "1.5.0",
          "state": {
            "_dom_classes": [],
            "_model_module": "@jupyter-widgets/controls",
            "_model_module_version": "1.5.0",
            "_model_name": "FloatProgressModel",
            "_view_count": null,
            "_view_module": "@jupyter-widgets/controls",
            "_view_module_version": "1.5.0",
            "_view_name": "ProgressView",
            "bar_style": "success",
            "description": "",
            "description_tooltip": null,
            "layout": "IPY_MODEL_47103d6de539462f8b6e10c68334c155",
            "max": 387,
            "min": 0,
            "orientation": "horizontal",
            "style": "IPY_MODEL_86e3c0161abd4d99bbd0a62031b778e6",
            "value": 387
          }
        },
        "4663a316f9f54895a019e5ae83b5c84d": {
          "model_module": "@jupyter-widgets/controls",
          "model_name": "HTMLModel",
          "model_module_version": "1.5.0",
          "state": {
            "_dom_classes": [],
            "_model_module": "@jupyter-widgets/controls",
            "_model_module_version": "1.5.0",
            "_model_name": "HTMLModel",
            "_view_count": null,
            "_view_module": "@jupyter-widgets/controls",
            "_view_module_version": "1.5.0",
            "_view_name": "HTMLView",
            "description": "",
            "description_tooltip": null,
            "layout": "IPY_MODEL_d4a24ee5f322406b881b53ec2097e887",
            "placeholder": "​",
            "style": "IPY_MODEL_119f9f5169e24db28e6cc59909da290e",
            "value": " 387/387 [00:00&lt;00:00, 5.61kB/s]"
          }
        },
        "2ee20227a567438581b0083d8704a3d1": {
          "model_module": "@jupyter-widgets/base",
          "model_name": "LayoutModel",
          "model_module_version": "1.2.0",
          "state": {
            "_model_module": "@jupyter-widgets/base",
            "_model_module_version": "1.2.0",
            "_model_name": "LayoutModel",
            "_view_count": null,
            "_view_module": "@jupyter-widgets/base",
            "_view_module_version": "1.2.0",
            "_view_name": "LayoutView",
            "align_content": null,
            "align_items": null,
            "align_self": null,
            "border": null,
            "bottom": null,
            "display": null,
            "flex": null,
            "flex_flow": null,
            "grid_area": null,
            "grid_auto_columns": null,
            "grid_auto_flow": null,
            "grid_auto_rows": null,
            "grid_column": null,
            "grid_gap": null,
            "grid_row": null,
            "grid_template_areas": null,
            "grid_template_columns": null,
            "grid_template_rows": null,
            "height": null,
            "justify_content": null,
            "justify_items": null,
            "left": null,
            "margin": null,
            "max_height": null,
            "max_width": null,
            "min_height": null,
            "min_width": null,
            "object_fit": null,
            "object_position": null,
            "order": null,
            "overflow": null,
            "overflow_x": null,
            "overflow_y": null,
            "padding": null,
            "right": null,
            "top": null,
            "visibility": null,
            "width": null
          }
        },
        "8bb2c5d8b63c482c9da91fde08b4cd3b": {
          "model_module": "@jupyter-widgets/base",
          "model_name": "LayoutModel",
          "model_module_version": "1.2.0",
          "state": {
            "_model_module": "@jupyter-widgets/base",
            "_model_module_version": "1.2.0",
            "_model_name": "LayoutModel",
            "_view_count": null,
            "_view_module": "@jupyter-widgets/base",
            "_view_module_version": "1.2.0",
            "_view_name": "LayoutView",
            "align_content": null,
            "align_items": null,
            "align_self": null,
            "border": null,
            "bottom": null,
            "display": null,
            "flex": null,
            "flex_flow": null,
            "grid_area": null,
            "grid_auto_columns": null,
            "grid_auto_flow": null,
            "grid_auto_rows": null,
            "grid_column": null,
            "grid_gap": null,
            "grid_row": null,
            "grid_template_areas": null,
            "grid_template_columns": null,
            "grid_template_rows": null,
            "height": null,
            "justify_content": null,
            "justify_items": null,
            "left": null,
            "margin": null,
            "max_height": null,
            "max_width": null,
            "min_height": null,
            "min_width": null,
            "object_fit": null,
            "object_position": null,
            "order": null,
            "overflow": null,
            "overflow_x": null,
            "overflow_y": null,
            "padding": null,
            "right": null,
            "top": null,
            "visibility": null,
            "width": null
          }
        },
        "e58f81e7b7c84a919327154ad2d9e8ee": {
          "model_module": "@jupyter-widgets/controls",
          "model_name": "DescriptionStyleModel",
          "model_module_version": "1.5.0",
          "state": {
            "_model_module": "@jupyter-widgets/controls",
            "_model_module_version": "1.5.0",
            "_model_name": "DescriptionStyleModel",
            "_view_count": null,
            "_view_module": "@jupyter-widgets/base",
            "_view_module_version": "1.2.0",
            "_view_name": "StyleView",
            "description_width": ""
          }
        },
        "47103d6de539462f8b6e10c68334c155": {
          "model_module": "@jupyter-widgets/base",
          "model_name": "LayoutModel",
          "model_module_version": "1.2.0",
          "state": {
            "_model_module": "@jupyter-widgets/base",
            "_model_module_version": "1.2.0",
            "_model_name": "LayoutModel",
            "_view_count": null,
            "_view_module": "@jupyter-widgets/base",
            "_view_module_version": "1.2.0",
            "_view_name": "LayoutView",
            "align_content": null,
            "align_items": null,
            "align_self": null,
            "border": null,
            "bottom": null,
            "display": null,
            "flex": null,
            "flex_flow": null,
            "grid_area": null,
            "grid_auto_columns": null,
            "grid_auto_flow": null,
            "grid_auto_rows": null,
            "grid_column": null,
            "grid_gap": null,
            "grid_row": null,
            "grid_template_areas": null,
            "grid_template_columns": null,
            "grid_template_rows": null,
            "height": null,
            "justify_content": null,
            "justify_items": null,
            "left": null,
            "margin": null,
            "max_height": null,
            "max_width": null,
            "min_height": null,
            "min_width": null,
            "object_fit": null,
            "object_position": null,
            "order": null,
            "overflow": null,
            "overflow_x": null,
            "overflow_y": null,
            "padding": null,
            "right": null,
            "top": null,
            "visibility": null,
            "width": null
          }
        },
        "86e3c0161abd4d99bbd0a62031b778e6": {
          "model_module": "@jupyter-widgets/controls",
          "model_name": "ProgressStyleModel",
          "model_module_version": "1.5.0",
          "state": {
            "_model_module": "@jupyter-widgets/controls",
            "_model_module_version": "1.5.0",
            "_model_name": "ProgressStyleModel",
            "_view_count": null,
            "_view_module": "@jupyter-widgets/base",
            "_view_module_version": "1.2.0",
            "_view_name": "StyleView",
            "bar_color": null,
            "description_width": ""
          }
        },
        "d4a24ee5f322406b881b53ec2097e887": {
          "model_module": "@jupyter-widgets/base",
          "model_name": "LayoutModel",
          "model_module_version": "1.2.0",
          "state": {
            "_model_module": "@jupyter-widgets/base",
            "_model_module_version": "1.2.0",
            "_model_name": "LayoutModel",
            "_view_count": null,
            "_view_module": "@jupyter-widgets/base",
            "_view_module_version": "1.2.0",
            "_view_name": "LayoutView",
            "align_content": null,
            "align_items": null,
            "align_self": null,
            "border": null,
            "bottom": null,
            "display": null,
            "flex": null,
            "flex_flow": null,
            "grid_area": null,
            "grid_auto_columns": null,
            "grid_auto_flow": null,
            "grid_auto_rows": null,
            "grid_column": null,
            "grid_gap": null,
            "grid_row": null,
            "grid_template_areas": null,
            "grid_template_columns": null,
            "grid_template_rows": null,
            "height": null,
            "justify_content": null,
            "justify_items": null,
            "left": null,
            "margin": null,
            "max_height": null,
            "max_width": null,
            "min_height": null,
            "min_width": null,
            "object_fit": null,
            "object_position": null,
            "order": null,
            "overflow": null,
            "overflow_x": null,
            "overflow_y": null,
            "padding": null,
            "right": null,
            "top": null,
            "visibility": null,
            "width": null
          }
        },
        "119f9f5169e24db28e6cc59909da290e": {
          "model_module": "@jupyter-widgets/controls",
          "model_name": "DescriptionStyleModel",
          "model_module_version": "1.5.0",
          "state": {
            "_model_module": "@jupyter-widgets/controls",
            "_model_module_version": "1.5.0",
            "_model_name": "DescriptionStyleModel",
            "_view_count": null,
            "_view_module": "@jupyter-widgets/base",
            "_view_module_version": "1.2.0",
            "_view_name": "StyleView",
            "description_width": ""
          }
        }
      }
    }
  },
  "cells": [
    {
      "cell_type": "code",
      "source": [
        "text_ai='Las Redes Generativas Antagónicas (GANs, por sus siglas en inglés) son modelos de aprendizaje profundo que permiten generar datos nuevos y realistas. Fueron introducidas por Ian Goodfellow en 2014 y constan de dos redes neuronales enfrentadas: un generador y un discriminador. El generador intenta crear datos sintéticos, como imágenes o texto, mientras que el discriminador evalúa si estos datos son reales o falsos. A través de este proceso competitivo, ambos modelos mejoran constantemente, permitiendo que el generador produzca resultados cada vez más convincentes. Las GANs se aplican en múltiples áreas, como la creación de rostros artificiales, restauración de imágenes, generación de arte y deepfakes. A pesar de su potencial, también enfrentan desafíos como la inestabilidad del entrenamiento, el colapso del modo y preocupaciones éticas sobre el uso indebido. No obstante, representan un gran avance en la inteligencia artificial, especialmente en el ámbito de la generación de contenido sintético de alta calidad.'"
      ],
      "metadata": {
        "id": "uqIxrTQeZ9EY"
      },
      "execution_count": null,
      "outputs": []
    },
    {
      "cell_type": "code",
      "source": [
        "import unicodedata\n",
        "import re\n",
        "from nltk import ngrams\n",
        "from collections import Counter"
      ],
      "metadata": {
        "id": "l_sRu20camv2"
      },
      "execution_count": null,
      "outputs": []
    },
    {
      "cell_type": "code",
      "source": [
        "# 1. Convertir a minúsculas\n",
        "text = text_ai.lower()\n",
        "\n",
        "# 2. Eliminar signos de puntuación\n",
        "text = re.sub(r'[^\\w\\s]', '', text)\n",
        "\n",
        "# 3. Eliminar tildes\n",
        "text = ''.join(\n",
        "    c for c in unicodedata.normalize('NFD', text)\n",
        "    if unicodedata.category(c) != 'Mn'\n",
        ")\n",
        "\n",
        "# 4. Tokenizar (dividir en palabras)\n",
        "tokens = text.split()\n",
        "\n",
        "# 5. Crear bigrams\n",
        "bigrams = list(ngrams(tokens, 2))\n",
        "\n",
        "# 6. Contar ocurrencias de cada bigrama\n",
        "counter = Counter(bigrams)\n",
        "\n",
        "# Imprimir resultado\n",
        "print(counter)"
      ],
      "metadata": {
        "colab": {
          "base_uri": "https://localhost:8080/"
        },
        "id": "Dx_BEKsmavP0",
        "outputId": "4f8f7118-4bdb-4b75-d3c9-51e60e4615f9"
      },
      "execution_count": null,
      "outputs": [
        {
          "output_type": "stream",
          "name": "stdout",
          "text": [
            "Counter({('el', 'generador'): 2, ('que', 'el'): 2, ('como', 'la'): 2, ('generacion', 'de'): 2, ('las', 'redes'): 1, ('redes', 'generativas'): 1, ('generativas', 'antagonicas'): 1, ('antagonicas', 'gans'): 1, ('gans', 'por'): 1, ('por', 'sus'): 1, ('sus', 'siglas'): 1, ('siglas', 'en'): 1, ('en', 'ingles'): 1, ('ingles', 'son'): 1, ('son', 'modelos'): 1, ('modelos', 'de'): 1, ('de', 'aprendizaje'): 1, ('aprendizaje', 'profundo'): 1, ('profundo', 'que'): 1, ('que', 'permiten'): 1, ('permiten', 'generar'): 1, ('generar', 'datos'): 1, ('datos', 'nuevos'): 1, ('nuevos', 'y'): 1, ('y', 'realistas'): 1, ('realistas', 'fueron'): 1, ('fueron', 'introducidas'): 1, ('introducidas', 'por'): 1, ('por', 'ian'): 1, ('ian', 'goodfellow'): 1, ('goodfellow', 'en'): 1, ('en', '2014'): 1, ('2014', 'y'): 1, ('y', 'constan'): 1, ('constan', 'de'): 1, ('de', 'dos'): 1, ('dos', 'redes'): 1, ('redes', 'neuronales'): 1, ('neuronales', 'enfrentadas'): 1, ('enfrentadas', 'un'): 1, ('un', 'generador'): 1, ('generador', 'y'): 1, ('y', 'un'): 1, ('un', 'discriminador'): 1, ('discriminador', 'el'): 1, ('generador', 'intenta'): 1, ('intenta', 'crear'): 1, ('crear', 'datos'): 1, ('datos', 'sinteticos'): 1, ('sinteticos', 'como'): 1, ('como', 'imagenes'): 1, ('imagenes', 'o'): 1, ('o', 'texto'): 1, ('texto', 'mientras'): 1, ('mientras', 'que'): 1, ('el', 'discriminador'): 1, ('discriminador', 'evalua'): 1, ('evalua', 'si'): 1, ('si', 'estos'): 1, ('estos', 'datos'): 1, ('datos', 'son'): 1, ('son', 'reales'): 1, ('reales', 'o'): 1, ('o', 'falsos'): 1, ('falsos', 'a'): 1, ('a', 'traves'): 1, ('traves', 'de'): 1, ('de', 'este'): 1, ('este', 'proceso'): 1, ('proceso', 'competitivo'): 1, ('competitivo', 'ambos'): 1, ('ambos', 'modelos'): 1, ('modelos', 'mejoran'): 1, ('mejoran', 'constantemente'): 1, ('constantemente', 'permitiendo'): 1, ('permitiendo', 'que'): 1, ('generador', 'produzca'): 1, ('produzca', 'resultados'): 1, ('resultados', 'cada'): 1, ('cada', 'vez'): 1, ('vez', 'mas'): 1, ('mas', 'convincentes'): 1, ('convincentes', 'las'): 1, ('las', 'gans'): 1, ('gans', 'se'): 1, ('se', 'aplican'): 1, ('aplican', 'en'): 1, ('en', 'multiples'): 1, ('multiples', 'areas'): 1, ('areas', 'como'): 1, ('la', 'creacion'): 1, ('creacion', 'de'): 1, ('de', 'rostros'): 1, ('rostros', 'artificiales'): 1, ('artificiales', 'restauracion'): 1, ('restauracion', 'de'): 1, ('de', 'imagenes'): 1, ('imagenes', 'generacion'): 1, ('de', 'arte'): 1, ('arte', 'y'): 1, ('y', 'deepfakes'): 1, ('deepfakes', 'a'): 1, ('a', 'pesar'): 1, ('pesar', 'de'): 1, ('de', 'su'): 1, ('su', 'potencial'): 1, ('potencial', 'tambien'): 1, ('tambien', 'enfrentan'): 1, ('enfrentan', 'desafios'): 1, ('desafios', 'como'): 1, ('la', 'inestabilidad'): 1, ('inestabilidad', 'del'): 1, ('del', 'entrenamiento'): 1, ('entrenamiento', 'el'): 1, ('el', 'colapso'): 1, ('colapso', 'del'): 1, ('del', 'modo'): 1, ('modo', 'y'): 1, ('y', 'preocupaciones'): 1, ('preocupaciones', 'eticas'): 1, ('eticas', 'sobre'): 1, ('sobre', 'el'): 1, ('el', 'uso'): 1, ('uso', 'indebido'): 1, ('indebido', 'no'): 1, ('no', 'obstante'): 1, ('obstante', 'representan'): 1, ('representan', 'un'): 1, ('un', 'gran'): 1, ('gran', 'avance'): 1, ('avance', 'en'): 1, ('en', 'la'): 1, ('la', 'inteligencia'): 1, ('inteligencia', 'artificial'): 1, ('artificial', 'especialmente'): 1, ('especialmente', 'en'): 1, ('en', 'el'): 1, ('el', 'ambito'): 1, ('ambito', 'de'): 1, ('de', 'la'): 1, ('la', 'generacion'): 1, ('de', 'contenido'): 1, ('contenido', 'sintetico'): 1, ('sintetico', 'de'): 1, ('de', 'alta'): 1, ('alta', 'calidad'): 1})\n"
          ]
        }
      ]
    },
    {
      "cell_type": "code",
      "source": [
        "total_bigrams = sum(counter.values())\n",
        "print(\"Total de bigramas:\", total_bigrams)"
      ],
      "metadata": {
        "colab": {
          "base_uri": "https://localhost:8080/"
        },
        "id": "G2TtL7SYbGBP",
        "outputId": "44adb0e5-b372-4c69-db19-9bd56a28d503"
      },
      "execution_count": null,
      "outputs": [
        {
          "output_type": "stream",
          "name": "stdout",
          "text": [
            "Total de bigramas: 150\n"
          ]
        }
      ]
    },
    {
      "cell_type": "code",
      "source": [
        "from collections import Counter\n",
        "import math\n",
        "\n",
        "def entropy(text):\n",
        "    freq = Counter(text.split())\n",
        "    print(freq)\n",
        "    total = sum(freq.values())\n",
        "    print(total)\n",
        "    return -sum((f/total) * math.log2(f/total) for f in freq.values())\n",
        "\n",
        "entropy(text)\n"
      ],
      "metadata": {
        "colab": {
          "base_uri": "https://localhost:8080/"
        },
        "id": "pcXoldJObXva",
        "outputId": "165cd639-1134-4107-bece-112a80257798"
      },
      "execution_count": null,
      "outputs": [
        {
          "output_type": "stream",
          "name": "stdout",
          "text": [
            "Counter({'de': 10, 'el': 6, 'en': 5, 'y': 5, 'la': 4, 'que': 3, 'datos': 3, 'un': 3, 'generador': 3, 'como': 3, 'las': 2, 'redes': 2, 'gans': 2, 'por': 2, 'son': 2, 'modelos': 2, 'discriminador': 2, 'imagenes': 2, 'o': 2, 'a': 2, 'generacion': 2, 'del': 2, 'generativas': 1, 'antagonicas': 1, 'sus': 1, 'siglas': 1, 'ingles': 1, 'aprendizaje': 1, 'profundo': 1, 'permiten': 1, 'generar': 1, 'nuevos': 1, 'realistas': 1, 'fueron': 1, 'introducidas': 1, 'ian': 1, 'goodfellow': 1, '2014': 1, 'constan': 1, 'dos': 1, 'neuronales': 1, 'enfrentadas': 1, 'intenta': 1, 'crear': 1, 'sinteticos': 1, 'texto': 1, 'mientras': 1, 'evalua': 1, 'si': 1, 'estos': 1, 'reales': 1, 'falsos': 1, 'traves': 1, 'este': 1, 'proceso': 1, 'competitivo': 1, 'ambos': 1, 'mejoran': 1, 'constantemente': 1, 'permitiendo': 1, 'produzca': 1, 'resultados': 1, 'cada': 1, 'vez': 1, 'mas': 1, 'convincentes': 1, 'se': 1, 'aplican': 1, 'multiples': 1, 'areas': 1, 'creacion': 1, 'rostros': 1, 'artificiales': 1, 'restauracion': 1, 'arte': 1, 'deepfakes': 1, 'pesar': 1, 'su': 1, 'potencial': 1, 'tambien': 1, 'enfrentan': 1, 'desafios': 1, 'inestabilidad': 1, 'entrenamiento': 1, 'colapso': 1, 'modo': 1, 'preocupaciones': 1, 'eticas': 1, 'sobre': 1, 'uso': 1, 'indebido': 1, 'no': 1, 'obstante': 1, 'representan': 1, 'gran': 1, 'avance': 1, 'inteligencia': 1, 'artificial': 1, 'especialmente': 1, 'ambito': 1, 'contenido': 1, 'sintetico': 1, 'alta': 1, 'calidad': 1})\n",
            "151\n"
          ]
        },
        {
          "output_type": "execute_result",
          "data": {
            "text/plain": [
              "6.392558551160222"
            ]
          },
          "metadata": {},
          "execution_count": 8
        }
      ]
    },
    {
      "cell_type": "code",
      "source": [
        "import numpy as np\n",
        "import re\n",
        "\n",
        "def calcular_burstiness(texto):\n",
        "    # Dividir en oraciones simples\n",
        "    oraciones = re.split(r'[.!?]', texto)\n",
        "    oraciones = [o.strip() for o in oraciones if o.strip()]\n",
        "\n",
        "    # Calcular longitud de cada oración (en palabras)\n",
        "    longitudes = [len(oracion.split()) for oracion in oraciones]\n",
        "\n",
        "    # Calcular media y desviación estándar\n",
        "    media = np.mean(longitudes)\n",
        "    desviacion = np.std(longitudes)\n",
        "\n",
        "    print(\"Longitudes de oraciones:\", longitudes)\n",
        "    print(f\"Media de longitudes: {media:.2f}\")\n",
        "    print(f\"Burstiness (σ): {desviacion:.2f}\")\n",
        "    return desviacion"
      ],
      "metadata": {
        "id": "oorxaIW_bq1J"
      },
      "execution_count": null,
      "outputs": []
    },
    {
      "cell_type": "code",
      "source": [
        "print(text_ai)"
      ],
      "metadata": {
        "colab": {
          "base_uri": "https://localhost:8080/"
        },
        "id": "wHtenYatb390",
        "outputId": "89ad262d-014b-441c-81c3-c829e0f00944"
      },
      "execution_count": null,
      "outputs": [
        {
          "output_type": "stream",
          "name": "stdout",
          "text": [
            "Las Redes Generativas Antagónicas (GANs, por sus siglas en inglés) son modelos de aprendizaje profundo que permiten generar datos nuevos y realistas. Fueron introducidas por Ian Goodfellow en 2014 y constan de dos redes neuronales enfrentadas: un generador y un discriminador. El generador intenta crear datos sintéticos, como imágenes o texto, mientras que el discriminador evalúa si estos datos son reales o falsos. A través de este proceso competitivo, ambos modelos mejoran constantemente, permitiendo que el generador produzca resultados cada vez más convincentes. Las GANs se aplican en múltiples áreas, como la creación de rostros artificiales, restauración de imágenes, generación de arte y deepfakes. A pesar de su potencial, también enfrentan desafíos como la inestabilidad del entrenamiento, el colapso del modo y preocupaciones éticas sobre el uso indebido. No obstante, representan un gran avance en la inteligencia artificial, especialmente en el ámbito de la generación de contenido sintético de alta calidad.\n"
          ]
        }
      ]
    },
    {
      "cell_type": "code",
      "source": [
        "calcular_burstiness(text_ai)"
      ],
      "metadata": {
        "colab": {
          "base_uri": "https://localhost:8080/"
        },
        "id": "L1FKW2Ocbtm4",
        "outputId": "c989a1e3-d29c-4e06-d2d4-44715e721a88"
      },
      "execution_count": null,
      "outputs": [
        {
          "output_type": "stream",
          "name": "stdout",
          "text": [
            "Longitudes de oraciones: [22, 19, 22, 20, 21, 24, 23]\n",
            "Media de longitudes: 21.57\n",
            "Burstiness (σ): 1.59\n"
          ]
        },
        {
          "output_type": "execute_result",
          "data": {
            "text/plain": [
              "np.float64(1.5907898179514348)"
            ]
          },
          "metadata": {},
          "execution_count": 14
        }
      ]
    },
    {
      "cell_type": "code",
      "source": [
        "!pip install transformers"
      ],
      "metadata": {
        "colab": {
          "base_uri": "https://localhost:8080/"
        },
        "id": "tw2fPNhWcSCy",
        "outputId": "2a2424dc-11b6-44ee-9433-8fe22f910c66"
      },
      "execution_count": null,
      "outputs": [
        {
          "output_type": "stream",
          "name": "stdout",
          "text": [
            "Requirement already satisfied: transformers in /usr/local/lib/python3.11/dist-packages (4.50.0)\n",
            "Requirement already satisfied: filelock in /usr/local/lib/python3.11/dist-packages (from transformers) (3.18.0)\n",
            "Requirement already satisfied: huggingface-hub<1.0,>=0.26.0 in /usr/local/lib/python3.11/dist-packages (from transformers) (0.29.3)\n",
            "Requirement already satisfied: numpy>=1.17 in /usr/local/lib/python3.11/dist-packages (from transformers) (2.0.2)\n",
            "Requirement already satisfied: packaging>=20.0 in /usr/local/lib/python3.11/dist-packages (from transformers) (24.2)\n",
            "Requirement already satisfied: pyyaml>=5.1 in /usr/local/lib/python3.11/dist-packages (from transformers) (6.0.2)\n",
            "Requirement already satisfied: regex!=2019.12.17 in /usr/local/lib/python3.11/dist-packages (from transformers) (2024.11.6)\n",
            "Requirement already satisfied: requests in /usr/local/lib/python3.11/dist-packages (from transformers) (2.32.3)\n",
            "Requirement already satisfied: tokenizers<0.22,>=0.21 in /usr/local/lib/python3.11/dist-packages (from transformers) (0.21.1)\n",
            "Requirement already satisfied: safetensors>=0.4.3 in /usr/local/lib/python3.11/dist-packages (from transformers) (0.5.3)\n",
            "Requirement already satisfied: tqdm>=4.27 in /usr/local/lib/python3.11/dist-packages (from transformers) (4.67.1)\n",
            "Requirement already satisfied: fsspec>=2023.5.0 in /usr/local/lib/python3.11/dist-packages (from huggingface-hub<1.0,>=0.26.0->transformers) (2025.3.0)\n",
            "Requirement already satisfied: typing-extensions>=3.7.4.3 in /usr/local/lib/python3.11/dist-packages (from huggingface-hub<1.0,>=0.26.0->transformers) (4.12.2)\n",
            "Requirement already satisfied: charset-normalizer<4,>=2 in /usr/local/lib/python3.11/dist-packages (from requests->transformers) (3.4.1)\n",
            "Requirement already satisfied: idna<4,>=2.5 in /usr/local/lib/python3.11/dist-packages (from requests->transformers) (3.10)\n",
            "Requirement already satisfied: urllib3<3,>=1.21.1 in /usr/local/lib/python3.11/dist-packages (from requests->transformers) (2.3.0)\n",
            "Requirement already satisfied: certifi>=2017.4.17 in /usr/local/lib/python3.11/dist-packages (from requests->transformers) (2025.1.31)\n"
          ]
        }
      ]
    },
    {
      "cell_type": "code",
      "source": [
        "from transformers import GPT2LMHeadModel, GPT2Tokenizer # Importing necessary classes\n",
        "import torch\n"
      ],
      "metadata": {
        "id": "KfSHgFOVc3G8"
      },
      "execution_count": null,
      "outputs": []
    },
    {
      "cell_type": "code",
      "source": [
        "model_name = \"datificate/gpt2-small-spanish\"\n",
        "model = GPT2LMHeadModel.from_pretrained(model_name)\n",
        "tokenizer = GPT2Tokenizer.from_pretrained(model_name)\n",
        "\n",
        "text = text\n",
        "input_ids = tokenizer.encode(text, return_tensors='pt')\n",
        "\n",
        "with torch.no_grad():\n",
        "    loss = model(input_ids, labels=input_ids).loss\n",
        "    print(\"Perplejidad:\", torch.exp(loss).item())"
      ],
      "metadata": {
        "colab": {
          "base_uri": "https://localhost:8080/",
          "height": 380,
          "referenced_widgets": [
            "9e688610697e49f68c414a69270a9dac",
            "8d8303ebefd74d7ea9d41674e86e74e9",
            "a4a51fac85d64b5aae07eecdeedbebef",
            "561431a57dd54b26a7485274f4c870ca",
            "8535b0f3b7e34dac95d5a0034d90dc15",
            "9d1ccf8e91bf4d2bafd0801c3d16694d",
            "2380b1de5576493e98652f9d0c20ac95",
            "de0be21c21484c98bfae0d6a743b499a",
            "5565d5c7d0f0436e894735ecee0e69b2",
            "5927d8f50a354db5bc3b9eaed9ad569e",
            "27cf7f4b12064ba2a3374545afb61597",
            "05d3b3c0af9544df8326d270ac032713",
            "2c332561d9bf4716852459ef8f7133f5",
            "d363033160bc400699143e56e1f7cf90",
            "c04857141fe6485e81a9f465de9ad1bd",
            "182aa7854d054a7b8e31ca0a6b460e4a",
            "7a1206f4b32e4fb9af2d346eb4346fdf",
            "1eedd210a9d741e0b79d063ae3cd913a",
            "e288d5d7f27142a698adb26d923b8fd6",
            "f7c273cf1bc04276a333eef463ebbc16",
            "4e5d649f18414f7bb7fd795995029983",
            "42193bb3df084b30a0cf04b3ce482134",
            "a48c8f198dd042aa9f8ce312ec692bf0",
            "9ffefb96e2ec4275bde78e777b3a83df",
            "31cfe70c77004aab8e5505b3922e564f",
            "fcc317964d9e4fb4bfbb120de24c5638",
            "29788d6555b7471385a5ebe4414a2928",
            "f0b460ffccf64b309a12dabc3cc8269f",
            "0e13b9981e994f219e809bbf607f22d0",
            "7cdd7a16c5aa43df8f5d2fc2978d5294",
            "db485f8bd5b046189f3a57e05740e6dd",
            "b8f0d2075bd74e1ebed85f8cf7bc97d1",
            "ba681c063f5a4daebb02d12e9acfd5c8",
            "e62433f2122d4836b75e9d5135ad7dcf",
            "f0a1e5d0367c47bb8cd3d8f59ce8941d",
            "18285e167fcb4891909aac9c8c817664",
            "76f2a7fa38d645aeb4e154df94a52465",
            "b1fa1c49dee048b8aac9bff3942eb6b4",
            "e17bfd4f522b4341909fba01a6becd71",
            "9c86f2dbb8a343389c2c69bebb202ccd",
            "92de91569e374eb2869897612ca3f8d2",
            "790347877ed94f388a559d96b50c9581",
            "5a6b796f9dc945b4b76c70ed38b402de",
            "7827162f1d374335b5734809949ee79a",
            "b2462da627aa457788a4d6066948bb30",
            "469ef4d849c44f8ba69278da25fa13cd",
            "2a8f2a64e0fa463e96e55e296793b0e7",
            "0d897837fc5b494e89b3bd9ec134b4fd",
            "3d54dd2da3634044a3029ffce97246cb",
            "56703f4206994c3181d7e91d555e251f",
            "9613aff24aa0437595e2f301fa67b914",
            "3d4ece326c2b4250ad790c429839dd8e",
            "b1822979a9ca451092ee5903482ab509",
            "5638a2dc30fc49cabacdb570d3591070",
            "a59c2edb93524c678c6790c948d4cafa",
            "c8c2765149f0479b865b92369ca56bcf",
            "059d07f16f4f4f2aafeebbe3153dc760",
            "10b6fd79d9d047ea83150229b9fbc599",
            "aa517ab3435f48a8862ed9bfa7930fde",
            "949c96b50c694ac3b81aade6dacf5dee",
            "d05045f8ced5452a89a56b520ea55f46",
            "8722a97e66fb4e48b363c23b4ee4bb41",
            "af1c3dcf9c3f4cac80ec18aebcabc799",
            "c2ab4b0466ab42f0b9900d93f2b30b5e",
            "c055ad856be84cd98150a09faecef1dc",
            "d47775a8ac4f48c99839ea8a4c25885b",
            "b12bdd51a1104de7bc6aaf82d8ed5673",
            "91476eead5e44ff29a3f77d6fe3ad7b8",
            "b88161528dec4b3596e91b64dd0fbe17",
            "4663a316f9f54895a019e5ae83b5c84d",
            "2ee20227a567438581b0083d8704a3d1",
            "8bb2c5d8b63c482c9da91fde08b4cd3b",
            "e58f81e7b7c84a919327154ad2d9e8ee",
            "47103d6de539462f8b6e10c68334c155",
            "86e3c0161abd4d99bbd0a62031b778e6",
            "d4a24ee5f322406b881b53ec2097e887",
            "119f9f5169e24db28e6cc59909da290e"
          ]
        },
        "id": "iuz2CXJocbz5",
        "outputId": "a97d60e4-479d-4bdd-d60e-294b03744120"
      },
      "execution_count": null,
      "outputs": [
        {
          "output_type": "stream",
          "name": "stderr",
          "text": [
            "/usr/local/lib/python3.11/dist-packages/huggingface_hub/utils/_auth.py:94: UserWarning: \n",
            "The secret `HF_TOKEN` does not exist in your Colab secrets.\n",
            "To authenticate with the Hugging Face Hub, create a token in your settings tab (https://huggingface.co/settings/tokens), set it as secret in your Google Colab and restart your session.\n",
            "You will be able to reuse this secret in all of your notebooks.\n",
            "Please note that authentication is recommended but still optional to access public models or datasets.\n",
            "  warnings.warn(\n"
          ]
        },
        {
          "output_type": "display_data",
          "data": {
            "text/plain": [
              "config.json:   0%|          | 0.00/817 [00:00<?, ?B/s]"
            ],
            "application/vnd.jupyter.widget-view+json": {
              "version_major": 2,
              "version_minor": 0,
              "model_id": "9e688610697e49f68c414a69270a9dac"
            }
          },
          "metadata": {}
        },
        {
          "output_type": "display_data",
          "data": {
            "text/plain": [
              "pytorch_model.bin:   0%|          | 0.00/510M [00:00<?, ?B/s]"
            ],
            "application/vnd.jupyter.widget-view+json": {
              "version_major": 2,
              "version_minor": 0,
              "model_id": "05d3b3c0af9544df8326d270ac032713"
            }
          },
          "metadata": {}
        },
        {
          "output_type": "display_data",
          "data": {
            "text/plain": [
              "model.safetensors:   0%|          | 0.00/510M [00:00<?, ?B/s]"
            ],
            "application/vnd.jupyter.widget-view+json": {
              "version_major": 2,
              "version_minor": 0,
              "model_id": "a48c8f198dd042aa9f8ce312ec692bf0"
            }
          },
          "metadata": {}
        },
        {
          "output_type": "display_data",
          "data": {
            "text/plain": [
              "tokenizer_config.json:   0%|          | 0.00/620 [00:00<?, ?B/s]"
            ],
            "application/vnd.jupyter.widget-view+json": {
              "version_major": 2,
              "version_minor": 0,
              "model_id": "e62433f2122d4836b75e9d5135ad7dcf"
            }
          },
          "metadata": {}
        },
        {
          "output_type": "display_data",
          "data": {
            "text/plain": [
              "vocab.json:   0%|          | 0.00/850k [00:00<?, ?B/s]"
            ],
            "application/vnd.jupyter.widget-view+json": {
              "version_major": 2,
              "version_minor": 0,
              "model_id": "b2462da627aa457788a4d6066948bb30"
            }
          },
          "metadata": {}
        },
        {
          "output_type": "display_data",
          "data": {
            "text/plain": [
              "merges.txt:   0%|          | 0.00/508k [00:00<?, ?B/s]"
            ],
            "application/vnd.jupyter.widget-view+json": {
              "version_major": 2,
              "version_minor": 0,
              "model_id": "c8c2765149f0479b865b92369ca56bcf"
            }
          },
          "metadata": {}
        },
        {
          "output_type": "display_data",
          "data": {
            "text/plain": [
              "special_tokens_map.json:   0%|          | 0.00/387 [00:00<?, ?B/s]"
            ],
            "application/vnd.jupyter.widget-view+json": {
              "version_major": 2,
              "version_minor": 0,
              "model_id": "b12bdd51a1104de7bc6aaf82d8ed5673"
            }
          },
          "metadata": {}
        },
        {
          "output_type": "stream",
          "name": "stderr",
          "text": [
            "`loss_type=None` was set in the config but it is unrecognised.Using the default loss: `ForCausalLMLoss`.\n"
          ]
        },
        {
          "output_type": "stream",
          "name": "stdout",
          "text": [
            "Perplejidad: 293.28271484375\n"
          ]
        }
      ]
    },
    {
      "cell_type": "code",
      "source": [
        "tokens = text.split()\n",
        "ttr = len(set(tokens)) / len(tokens)\n",
        "print(\"TTR:\", ttr)"
      ],
      "metadata": {
        "colab": {
          "base_uri": "https://localhost:8080/"
        },
        "id": "chalRl1rdR8F",
        "outputId": "cafcbf31-e8af-4633-c7b3-dc73fc45e52a"
      },
      "execution_count": null,
      "outputs": [
        {
          "output_type": "stream",
          "name": "stdout",
          "text": [
            "TTR: 0.6887417218543046\n"
          ]
        }
      ]
    },
    {
      "cell_type": "markdown",
      "source": [
        "## Texto Real"
      ],
      "metadata": {
        "id": "rFu9ZRNdd2Tk"
      }
    },
    {
      "cell_type": "code",
      "source": [
        "text_real='Pero fue hasta el año de 1956 cuando, en la ciudad de Dartmouth, en una conferencia, se logró dar el término de Inteligencia Artificial. Como sabemos, cada invento que ha sido realizado o creado a lo largo de la historia tiene que ver con alguna duda o inquietud sobre algún tema. Algo que en lo particular me llama mucho la atención es que la inteligencia artificial, como la conocemos hoy en día, surgió a partir de que un señor de apellido Turing propuso en un artículo una pregunta, la cual era: ¿puede pensar una máquina? Esto causó bastante interés y suspicacia entre los grandes científicos e ingenieros de aquellos tiempos, y a raíz de eso se comenzó con una serie de experimentos y proyectos de software que pretendían ver si una máquina, mediante un programador, era capaz de realizar las tareas que un ser humano realizaba. De esta manera, poco a poco se fue perfeccionando la IA hasta hoy en día, donde tiene una gran influencia en casi todos los trabajos que se realizan, sin límite alguno en la rama que sea: en la ingeniería, en la medicina, e incluso hoy en día en las actividades primarias como la agricultura y la ganadería, la IA tiene un amplio desarrollo en dichas actividades.'\n"
      ],
      "metadata": {
        "id": "nSZBTBVFd5BI"
      },
      "execution_count": null,
      "outputs": []
    },
    {
      "cell_type": "code",
      "source": [
        "# 1. Convertir a minúsculas\n",
        "text = text_real.lower()\n",
        "\n",
        "# 2. Eliminar signos de puntuación\n",
        "text = re.sub(r'[^\\w\\s]', '', text)\n",
        "\n",
        "# 3. Eliminar tildes\n",
        "text = ''.join(\n",
        "    c for c in unicodedata.normalize('NFD', text)\n",
        "    if unicodedata.category(c) != 'Mn'\n",
        ")\n",
        "\n",
        "# 4. Tokenizar (dividir en palabras)\n",
        "tokens = text.split()\n",
        "\n",
        "# 5. Crear bigrams\n",
        "bigrams = list(ngrams(tokens, 2))\n",
        "\n",
        "# 6. Contar ocurrencias de cada bigrama\n",
        "counter = Counter(bigrams)\n",
        "\n",
        "# Imprimir resultado\n",
        "print(counter)"
      ],
      "metadata": {
        "colab": {
          "base_uri": "https://localhost:8080/"
        },
        "id": "3J0bL3lld-Vs",
        "outputId": "0344a872-221c-425a-f2ff-73aa314886d0"
      },
      "execution_count": null,
      "outputs": [
        {
          "output_type": "stream",
          "name": "stdout",
          "text": [
            "Counter({('en', 'la'): 4, ('hoy', 'en'): 3, ('en', 'dia'): 3, ('inteligencia', 'artificial'): 2, ('artificial', 'como'): 2, ('como', 'la'): 2, ('que', 'un'): 2, ('una', 'maquina'): 2, ('la', 'ia'): 2, ('pero', 'fue'): 1, ('fue', 'hasta'): 1, ('hasta', 'el'): 1, ('el', 'ano'): 1, ('ano', 'de'): 1, ('de', '1956'): 1, ('1956', 'cuando'): 1, ('cuando', 'en'): 1, ('la', 'ciudad'): 1, ('ciudad', 'de'): 1, ('de', 'dartmouth'): 1, ('dartmouth', 'en'): 1, ('en', 'una'): 1, ('una', 'conferencia'): 1, ('conferencia', 'se'): 1, ('se', 'logro'): 1, ('logro', 'dar'): 1, ('dar', 'el'): 1, ('el', 'termino'): 1, ('termino', 'de'): 1, ('de', 'inteligencia'): 1, ('como', 'sabemos'): 1, ('sabemos', 'cada'): 1, ('cada', 'invento'): 1, ('invento', 'que'): 1, ('que', 'ha'): 1, ('ha', 'sido'): 1, ('sido', 'realizado'): 1, ('realizado', 'o'): 1, ('o', 'creado'): 1, ('creado', 'a'): 1, ('a', 'lo'): 1, ('lo', 'largo'): 1, ('largo', 'de'): 1, ('de', 'la'): 1, ('la', 'historia'): 1, ('historia', 'tiene'): 1, ('tiene', 'que'): 1, ('que', 'ver'): 1, ('ver', 'con'): 1, ('con', 'alguna'): 1, ('alguna', 'duda'): 1, ('duda', 'o'): 1, ('o', 'inquietud'): 1, ('inquietud', 'sobre'): 1, ('sobre', 'algun'): 1, ('algun', 'tema'): 1, ('tema', 'algo'): 1, ('algo', 'que'): 1, ('que', 'en'): 1, ('en', 'lo'): 1, ('lo', 'particular'): 1, ('particular', 'me'): 1, ('me', 'llama'): 1, ('llama', 'mucho'): 1, ('mucho', 'la'): 1, ('la', 'atencion'): 1, ('atencion', 'es'): 1, ('es', 'que'): 1, ('que', 'la'): 1, ('la', 'inteligencia'): 1, ('la', 'conocemos'): 1, ('conocemos', 'hoy'): 1, ('dia', 'surgio'): 1, ('surgio', 'a'): 1, ('a', 'partir'): 1, ('partir', 'de'): 1, ('de', 'que'): 1, ('un', 'senor'): 1, ('senor', 'de'): 1, ('de', 'apellido'): 1, ('apellido', 'turing'): 1, ('turing', 'propuso'): 1, ('propuso', 'en'): 1, ('en', 'un'): 1, ('un', 'articulo'): 1, ('articulo', 'una'): 1, ('una', 'pregunta'): 1, ('pregunta', 'la'): 1, ('la', 'cual'): 1, ('cual', 'era'): 1, ('era', 'puede'): 1, ('puede', 'pensar'): 1, ('pensar', 'una'): 1, ('maquina', 'esto'): 1, ('esto', 'causo'): 1, ('causo', 'bastante'): 1, ('bastante', 'interes'): 1, ('interes', 'y'): 1, ('y', 'suspicacia'): 1, ('suspicacia', 'entre'): 1, ('entre', 'los'): 1, ('los', 'grandes'): 1, ('grandes', 'cientificos'): 1, ('cientificos', 'e'): 1, ('e', 'ingenieros'): 1, ('ingenieros', 'de'): 1, ('de', 'aquellos'): 1, ('aquellos', 'tiempos'): 1, ('tiempos', 'y'): 1, ('y', 'a'): 1, ('a', 'raiz'): 1, ('raiz', 'de'): 1, ('de', 'eso'): 1, ('eso', 'se'): 1, ('se', 'comenzo'): 1, ('comenzo', 'con'): 1, ('con', 'una'): 1, ('una', 'serie'): 1, ('serie', 'de'): 1, ('de', 'experimentos'): 1, ('experimentos', 'y'): 1, ('y', 'proyectos'): 1, ('proyectos', 'de'): 1, ('de', 'software'): 1, ('software', 'que'): 1, ('que', 'pretendian'): 1, ('pretendian', 'ver'): 1, ('ver', 'si'): 1, ('si', 'una'): 1, ('maquina', 'mediante'): 1, ('mediante', 'un'): 1, ('un', 'programador'): 1, ('programador', 'era'): 1, ('era', 'capaz'): 1, ('capaz', 'de'): 1, ('de', 'realizar'): 1, ('realizar', 'las'): 1, ('las', 'tareas'): 1, ('tareas', 'que'): 1, ('un', 'ser'): 1, ('ser', 'humano'): 1, ('humano', 'realizaba'): 1, ('realizaba', 'de'): 1, ('de', 'esta'): 1, ('esta', 'manera'): 1, ('manera', 'poco'): 1, ('poco', 'a'): 1, ('a', 'poco'): 1, ('poco', 'se'): 1, ('se', 'fue'): 1, ('fue', 'perfeccionando'): 1, ('perfeccionando', 'la'): 1, ('ia', 'hasta'): 1, ('hasta', 'hoy'): 1, ('dia', 'donde'): 1, ('donde', 'tiene'): 1, ('tiene', 'una'): 1, ('una', 'gran'): 1, ('gran', 'influencia'): 1, ('influencia', 'en'): 1, ('en', 'casi'): 1, ('casi', 'todos'): 1, ('todos', 'los'): 1, ('los', 'trabajos'): 1, ('trabajos', 'que'): 1, ('que', 'se'): 1, ('se', 'realizan'): 1, ('realizan', 'sin'): 1, ('sin', 'limite'): 1, ('limite', 'alguno'): 1, ('alguno', 'en'): 1, ('la', 'rama'): 1, ('rama', 'que'): 1, ('que', 'sea'): 1, ('sea', 'en'): 1, ('la', 'ingenieria'): 1, ('ingenieria', 'en'): 1, ('la', 'medicina'): 1, ('medicina', 'e'): 1, ('e', 'incluso'): 1, ('incluso', 'hoy'): 1, ('dia', 'en'): 1, ('en', 'las'): 1, ('las', 'actividades'): 1, ('actividades', 'primarias'): 1, ('primarias', 'como'): 1, ('la', 'agricultura'): 1, ('agricultura', 'y'): 1, ('y', 'la'): 1, ('la', 'ganaderia'): 1, ('ganaderia', 'la'): 1, ('ia', 'tiene'): 1, ('tiene', 'un'): 1, ('un', 'amplio'): 1, ('amplio', 'desarrollo'): 1, ('desarrollo', 'en'): 1, ('en', 'dichas'): 1, ('dichas', 'actividades'): 1})\n"
          ]
        }
      ]
    },
    {
      "cell_type": "code",
      "source": [
        "total_bigrams = sum(counter.values())\n",
        "print(\"Total de bigramas:\", total_bigrams)"
      ],
      "metadata": {
        "colab": {
          "base_uri": "https://localhost:8080/"
        },
        "id": "M-ncXLMoeGEh",
        "outputId": "5323c07a-845a-4dd5-9cc6-830576780a47"
      },
      "execution_count": null,
      "outputs": [
        {
          "output_type": "stream",
          "name": "stdout",
          "text": [
            "Total de bigramas: 211\n"
          ]
        }
      ]
    },
    {
      "cell_type": "code",
      "source": [
        "def entropy(text):\n",
        "    freq = Counter(text.split())\n",
        "    print(freq)\n",
        "    total = sum(freq.values())\n",
        "    print(total)\n",
        "    return -sum((f/total) * math.log2(f/total) for f in freq.values())\n",
        "\n",
        "entropy(text)"
      ],
      "metadata": {
        "colab": {
          "base_uri": "https://localhost:8080/"
        },
        "id": "i30Ho00aeJP_",
        "outputId": "71f98b84-2856-41f2-e430-f6c35397c323"
      },
      "execution_count": null,
      "outputs": [
        {
          "output_type": "stream",
          "name": "stdout",
          "text": [
            "Counter({'en': 13, 'la': 13, 'de': 12, 'que': 9, 'una': 6, 'un': 5, 'se': 4, 'a': 4, 'y': 4, 'como': 3, 'tiene': 3, 'hoy': 3, 'dia': 3, 'fue': 2, 'hasta': 2, 'el': 2, 'inteligencia': 2, 'artificial': 2, 'o': 2, 'lo': 2, 'ver': 2, 'con': 2, 'era': 2, 'maquina': 2, 'los': 2, 'e': 2, 'las': 2, 'poco': 2, 'ia': 2, 'actividades': 2, 'pero': 1, 'ano': 1, '1956': 1, 'cuando': 1, 'ciudad': 1, 'dartmouth': 1, 'conferencia': 1, 'logro': 1, 'dar': 1, 'termino': 1, 'sabemos': 1, 'cada': 1, 'invento': 1, 'ha': 1, 'sido': 1, 'realizado': 1, 'creado': 1, 'largo': 1, 'historia': 1, 'alguna': 1, 'duda': 1, 'inquietud': 1, 'sobre': 1, 'algun': 1, 'tema': 1, 'algo': 1, 'particular': 1, 'me': 1, 'llama': 1, 'mucho': 1, 'atencion': 1, 'es': 1, 'conocemos': 1, 'surgio': 1, 'partir': 1, 'senor': 1, 'apellido': 1, 'turing': 1, 'propuso': 1, 'articulo': 1, 'pregunta': 1, 'cual': 1, 'puede': 1, 'pensar': 1, 'esto': 1, 'causo': 1, 'bastante': 1, 'interes': 1, 'suspicacia': 1, 'entre': 1, 'grandes': 1, 'cientificos': 1, 'ingenieros': 1, 'aquellos': 1, 'tiempos': 1, 'raiz': 1, 'eso': 1, 'comenzo': 1, 'serie': 1, 'experimentos': 1, 'proyectos': 1, 'software': 1, 'pretendian': 1, 'si': 1, 'mediante': 1, 'programador': 1, 'capaz': 1, 'realizar': 1, 'tareas': 1, 'ser': 1, 'humano': 1, 'realizaba': 1, 'esta': 1, 'manera': 1, 'perfeccionando': 1, 'donde': 1, 'gran': 1, 'influencia': 1, 'casi': 1, 'todos': 1, 'trabajos': 1, 'realizan': 1, 'sin': 1, 'limite': 1, 'alguno': 1, 'rama': 1, 'sea': 1, 'ingenieria': 1, 'medicina': 1, 'incluso': 1, 'primarias': 1, 'agricultura': 1, 'ganaderia': 1, 'amplio': 1, 'desarrollo': 1, 'dichas': 1})\n",
            "212\n"
          ]
        },
        {
          "output_type": "execute_result",
          "data": {
            "text/plain": [
              "6.445376713144709"
            ]
          },
          "metadata": {},
          "execution_count": 23
        }
      ]
    },
    {
      "cell_type": "code",
      "source": [
        "calcular_burstiness(text_real)"
      ],
      "metadata": {
        "colab": {
          "base_uri": "https://localhost:8080/"
        },
        "id": "EQWtXgS6eQv5",
        "outputId": "6c426a8e-b262-4c3a-9a82-754e24f91937"
      },
      "execution_count": null,
      "outputs": [
        {
          "output_type": "stream",
          "name": "stdout",
          "text": [
            "Longitudes de oraciones: [24, 27, 44, 51, 66]\n",
            "Media de longitudes: 42.40\n",
            "Burstiness (σ): 15.55\n"
          ]
        },
        {
          "output_type": "execute_result",
          "data": {
            "text/plain": [
              "np.float64(15.551205741035002)"
            ]
          },
          "metadata": {},
          "execution_count": 24
        }
      ]
    },
    {
      "cell_type": "code",
      "source": [
        "model_name = \"datificate/gpt2-small-spanish\"\n",
        "model = GPT2LMHeadModel.from_pretrained(model_name)\n",
        "tokenizer = GPT2Tokenizer.from_pretrained(model_name)\n",
        "\n",
        "text = text\n",
        "input_ids = tokenizer.encode(text, return_tensors='pt')\n",
        "\n",
        "with torch.no_grad():\n",
        "    loss = model(input_ids, labels=input_ids).loss\n",
        "    print(\"Perplejidad:\", torch.exp(loss).item())"
      ],
      "metadata": {
        "colab": {
          "base_uri": "https://localhost:8080/"
        },
        "id": "JvlMdBuQefKZ",
        "outputId": "517fa6cc-add5-49da-ffc0-8d36098897a0"
      },
      "execution_count": null,
      "outputs": [
        {
          "output_type": "stream",
          "name": "stdout",
          "text": [
            "Perplejidad: 134.02117919921875\n"
          ]
        }
      ]
    },
    {
      "cell_type": "code",
      "source": [
        "tokens = text.split()\n",
        "ttr = len(set(tokens)) / len(tokens)\n",
        "print(\"TTR:\", ttr)"
      ],
      "metadata": {
        "id": "zF9WpJOMeofY",
        "outputId": "31793f70-b805-47e2-f584-c7abf196195d",
        "colab": {
          "base_uri": "https://localhost:8080/"
        }
      },
      "execution_count": null,
      "outputs": [
        {
          "output_type": "stream",
          "name": "stdout",
          "text": [
            "TTR: 0.5943396226415094\n"
          ]
        }
      ]
    }
  ]
}